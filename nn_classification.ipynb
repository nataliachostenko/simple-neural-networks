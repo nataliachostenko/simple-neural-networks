{
 "cells": [
  {
   "cell_type": "markdown",
   "metadata": {},
   "source": [
    "## Sztuczne sieci neuronowe - laboratorium 5\n",
    "\n",
    "### Sieci neuronowe - klasyfikacja\n",
    "\n",
    "Na poprzednich zajęciach wytrenowaliśmy prostą sieć neuronową w zagadnieniu regresji.\n",
    "\n",
    "Dzisiejsze laboratorium będzie dotyczyło wykorzystania (gęstej) sieci neuronowej do klasyfikacji. Będziemy pracowali z danymi obrazkowymi.\n",
    "\n",
    "Poza biblioteką `torch` należy także doinstalować pakiet `torchvision`."
   ]
  },
  {
   "cell_type": "code",
   "execution_count": 8,
   "metadata": {},
   "outputs": [
    {
     "name": "stdout",
     "output_type": "stream",
     "text": [
      "Requirement already satisfied: torchvision in /Users/chostenko/opt/miniconda3/lib/python3.9/site-packages (0.17.2)\n",
      "Requirement already satisfied: numpy in /Users/chostenko/opt/miniconda3/lib/python3.9/site-packages (from torchvision) (1.23.5)\n",
      "Requirement already satisfied: torch==2.2.2 in /Users/chostenko/opt/miniconda3/lib/python3.9/site-packages (from torchvision) (2.2.2)\n",
      "Requirement already satisfied: pillow!=8.3.*,>=5.3.0 in /Users/chostenko/opt/miniconda3/lib/python3.9/site-packages (from torchvision) (10.1.0)\n",
      "Requirement already satisfied: filelock in /Users/chostenko/opt/miniconda3/lib/python3.9/site-packages (from torch==2.2.2->torchvision) (3.13.1)\n",
      "Requirement already satisfied: typing-extensions>=4.8.0 in /Users/chostenko/opt/miniconda3/lib/python3.9/site-packages (from torch==2.2.2->torchvision) (4.8.0)\n",
      "Requirement already satisfied: sympy in /Users/chostenko/opt/miniconda3/lib/python3.9/site-packages (from torch==2.2.2->torchvision) (1.12)\n",
      "Requirement already satisfied: networkx in /Users/chostenko/opt/miniconda3/lib/python3.9/site-packages (from torch==2.2.2->torchvision) (3.2.1)\n",
      "Requirement already satisfied: jinja2 in /Users/chostenko/opt/miniconda3/lib/python3.9/site-packages (from torch==2.2.2->torchvision) (3.1.2)\n",
      "Requirement already satisfied: fsspec in /Users/chostenko/opt/miniconda3/lib/python3.9/site-packages (from torch==2.2.2->torchvision) (2023.12.2)\n",
      "Requirement already satisfied: MarkupSafe>=2.0 in /Users/chostenko/opt/miniconda3/lib/python3.9/site-packages (from jinja2->torch==2.2.2->torchvision) (2.1.3)\n",
      "Requirement already satisfied: mpmath>=0.19 in /Users/chostenko/opt/miniconda3/lib/python3.9/site-packages (from sympy->torch==2.2.2->torchvision) (1.3.0)\n",
      "\n",
      "\u001b[1m[\u001b[0m\u001b[34;49mnotice\u001b[0m\u001b[1;39;49m]\u001b[0m\u001b[39;49m A new release of pip is available: \u001b[0m\u001b[31;49m23.3.2\u001b[0m\u001b[39;49m -> \u001b[0m\u001b[32;49m24.0\u001b[0m\n",
      "\u001b[1m[\u001b[0m\u001b[34;49mnotice\u001b[0m\u001b[1;39;49m]\u001b[0m\u001b[39;49m To update, run: \u001b[0m\u001b[32;49mpip install --upgrade pip\u001b[0m\n"
     ]
    }
   ],
   "source": [
    "!pip install torchvision"
   ]
  },
  {
   "cell_type": "code",
   "execution_count": 9,
   "metadata": {},
   "outputs": [],
   "source": [
    "import torch\n",
    "import torch.nn as nn\n",
    "import torch.optim as optim"
   ]
  },
  {
   "cell_type": "code",
   "execution_count": 10,
   "metadata": {},
   "outputs": [],
   "source": [
    "from torchvision import datasets\n",
    "from torchvision import transforms"
   ]
  },
  {
   "cell_type": "markdown",
   "metadata": {},
   "source": [
    "### CIFAR-10\n",
    "Zbiór CIFAR-10 składa się z 60 tysięcy kolorowych obrazków (RGB) rozmiaru 32x32 reprezentujących 10 klas obiektów:\n",
    "- 0 - samoloty (airplane)\n",
    "- 1 - samochody (automobile)\n",
    "- 2 - ptaki (bird)\n",
    "- 3 - koty (cat)\n",
    "- 4 - jelenie (deer)\n",
    "- 5 - psy (dog)\n",
    "- 6 - żaby (frog)\n",
    "- 7 - konie (horse)\n",
    "- 8 - statki (ship)\n",
    "- 9 - ciężarówki (truck)\n",
    "\n",
    "Został opracowany przez naukowców z CIFAR - Canadian Institute For Advanced Research.\n",
    "\n",
    "Biblioteka `torchvision` zawiera implementacje modeli sieci neuronowych wykorzystywanych do przetwarzania obrazu (wrócimy do nich w późniejszych laboratoriach), a także ma wbudowane przykładowe zbiory danych - CIFAR-10, CIFAR-100, MNIST, Fashion-MNIST i inne."
   ]
  },
  {
   "cell_type": "code",
   "execution_count": 11,
   "metadata": {},
   "outputs": [],
   "source": [
    "class_names = {\n",
    "    0: \"airplane\", \n",
    "    1: \"automobile\", \n",
    "    2: \"bird\", \n",
    "    3: \"cat\", \n",
    "    4: \"deer\", \n",
    "    5: \"dog\", \n",
    "    6: \"frog\",\n",
    "    7: \"horse\",\n",
    "    8: \"ship\",\n",
    "    9: \"truck\"\n",
    "}"
   ]
  },
  {
   "cell_type": "markdown",
   "metadata": {},
   "source": [
    "#### Ćwiczenie\n",
    "\n",
    "W `torchvision.datasets` dostępna jest klasa `CIFAR10`, która pozwala wczytać (lub pobrać i wczytać) dane pochodzące z tego zbioru. Można to zrobić tworząc obiekt tej klasy, podając jako argumenty konstruktora kolejno:\n",
    "- katalog z danymi (lub do którego dane mają zostać pobrane)\n",
    "- parametr `train` typu True/False - do wczytania osobno zbioru uczącego i walidacyjnego\n",
    "- parametr `download` - True/False czy w przypadku braku danych w podanym katalogu PyTorch ma je pobrać na dysk\n",
    "\n",
    "Wczytaj zbiór uczący i walidacyjny odpowiednio do zmiennych `cifar10` i `cifar10_val`.\n",
    "Wywołaj `type(cifar10).__mro__`, aby sprawdzić, jakiej klasy jest ten obiekt i po jakich klasach ona dziedziczy (MRO - Method Resolution Order)."
   ]
  },
  {
   "cell_type": "code",
   "execution_count": 13,
   "metadata": {},
   "outputs": [
    {
     "name": "stdout",
     "output_type": "stream",
     "text": [
      "Files already downloaded and verified\n",
      "Files already downloaded and verified\n",
      "(<class 'torchvision.datasets.cifar.CIFAR10'>, <class 'torchvision.datasets.vision.VisionDataset'>, <class 'torch.utils.data.dataset.Dataset'>, <class 'typing.Generic'>, <class 'object'>)\n"
     ]
    }
   ],
   "source": [
    "import torchvision\n",
    "\n",
    "transform = transforms.Compose(\n",
    "    [transforms.ToTensor(), # Konwersja obrazow do tensorow\n",
    "     transforms.Normalize((0.5, 0.5, 0.5), (0.5, 0.5, 0.5))] #normalizacja\n",
    ")\n",
    "\n",
    "#zbior uczacy\n",
    "cifar10 = torchvision.datasets.CIFAR10(root='./data', train=True,\n",
    "                                        download=True, transform=transform)\n",
    "\n",
    "# zbior walidacyjny\n",
    "cifar10_val = torchvision.datasets.CIFAR10(root='./data', train=False,\n",
    "                                           download=True, transform=transform)\n",
    "\n",
    "print(type(cifar10).__mro__)\n"
   ]
  },
  {
   "cell_type": "markdown",
   "metadata": {},
   "source": [
    "### Klasa Dataset\n",
    "\n",
    "W PyTorchu do reprezentowania zbiorów danych typowo wykorzystuje się klasę `torch.utils.data.Dataset`. Obiekty tej klasy muszą posiadać implementacje co najmniej dwóch metod: **\\_\\_len\\_\\_** oraz **\\_\\_getitem\\_\\_**. Pierwsza z nich powinna zwracać liczbę obserwacji w zbiorze danych, a druga - element zbioru (cechy i etykietę - w przypadku uczenia z nadzorem) odpowiadający podanemu indeksowi.\n",
    "\n",
    "Metodę \\_\\_len\\_\\_ w Pythonie wywołuje się jako **len(obiekt)**. Metodę \\_\\_getitem\\_\\_ - poprzez **obiekt[indeks]** - tak jak np. w przypadku listy."
   ]
  },
  {
   "cell_type": "markdown",
   "metadata": {},
   "source": [
    "#### Ćwiczenie\n",
    "Sprawdź wywołania powyżej opisanych metod dla `cifar10` i `cifar10_val` (wybierz dowolny indeks - lub kilka różnych po kolei - z dozwolonego zakresu). Do zapoznania się ze zbiorem danych wykorzystaj funkcję `plt.imshow(img)` i sprawdź zgodność etykiety z obrazkiem z wykorzystaniem słownika `class_names`."
   ]
  },
  {
   "cell_type": "code",
   "execution_count": 14,
   "metadata": {},
   "outputs": [
    {
     "name": "stdout",
     "output_type": "stream",
     "text": [
      "etykieta deer\n"
     ]
    },
    {
     "data": {
      "image/png": "[encoded data removed]",
      "text/plain": [
       "<Figure size 640x480 with 1 Axes>"
      ]
     },
     "metadata": {},
     "output_type": "display_data"
    },
    {
     "name": "stdout",
     "output_type": "stream",
     "text": [
      "etykieta deer\n"
     ]
    },
    {
     "data": {
      "image/png": "[encoded data removed]",
      "text/plain": [
       "<Figure size 640x480 with 1 Axes>"
      ]
     },
     "metadata": {},
     "output_type": "display_data"
    },
    {
     "name": "stdout",
     "output_type": "stream",
     "text": [
      "etykieta airplane\n"
     ]
    },
    {
     "data": {
      "image/png": "[encoded data removed]",
      "text/plain": [
       "<Figure size 640x480 with 1 Axes>"
      ]
     },
     "metadata": {},
     "output_type": "display_data"
    },
    {
     "name": "stdout",
     "output_type": "stream",
     "text": [
      "dlugosc zbioru uczacego 50000\n",
      "dlugosc zbioru walidacyjnego 10000\n"
     ]
    }
   ],
   "source": [
    "import matplotlib.pyplot as plt\n",
    "import numpy as np\n",
    "\n",
    "def imshow(img):\n",
    "    img = img / 2 + 0.5     # denormalizacja\n",
    "    npimg = img.numpy()\n",
    "    plt.imshow(np.transpose(npimg, (1, 2, 0)))\n",
    "    plt.show()\n",
    "\n",
    "# wybor indeksow\n",
    "indices = [3, 10, 30000]\n",
    "\n",
    "# wyswietlanie\n",
    "for idx in indices:\n",
    "    image, label = cifar10[idx]\n",
    "    print(f'etykieta {class_names[label]}')\n",
    "    imshow(image)\n",
    "\n",
    "# Sprawdzenie długości zbiorów\n",
    "print(f'dlugosc zbioru uczacego {len(cifar10)}')\n",
    "print(f'dlugosc zbioru walidacyjnego {len(cifar10_val)}')\n"
   ]
  },
  {
   "cell_type": "markdown",
   "metadata": {},
   "source": [
    "### Obrazek jako tensor\n",
    "\n",
    "Wczytany z użyciem `torchvision` zbiór CIFAR10 zawiera obrazki w postaci obiektów klasy `PIL.Image`. Przed użyciem w treningu modelu należy je przekształcić do postaci tensorów. Różne transformacje obrazów są dostępne w `torchvision.transforms` - będziemy się nimi zajmować mocniej w późniejszym czasie (np. przy okazji zagadnienia \"data augmentation\"). Dziś wykorzystamy je do konwersji obrazków RGB do tensorów oraz do normalizacji danych."
   ]
  },
  {
   "cell_type": "code",
   "execution_count": 15,
   "metadata": {},
   "outputs": [
    {
     "data": {
      "text/plain": [
       "['AugMix',\n",
       " 'AutoAugment',\n",
       " 'AutoAugmentPolicy',\n",
       " 'CenterCrop',\n",
       " 'ColorJitter',\n",
       " 'Compose',\n",
       " 'ConvertImageDtype',\n",
       " 'ElasticTransform',\n",
       " 'FiveCrop',\n",
       " 'GaussianBlur',\n",
       " 'Grayscale',\n",
       " 'InterpolationMode',\n",
       " 'Lambda',\n",
       " 'LinearTransformation',\n",
       " 'Normalize',\n",
       " 'PILToTensor',\n",
       " 'Pad',\n",
       " 'RandAugment',\n",
       " 'RandomAdjustSharpness',\n",
       " 'RandomAffine',\n",
       " 'RandomApply',\n",
       " 'RandomAutocontrast',\n",
       " 'RandomChoice',\n",
       " 'RandomCrop',\n",
       " 'RandomEqualize',\n",
       " 'RandomErasing',\n",
       " 'RandomGrayscale',\n",
       " 'RandomHorizontalFlip',\n",
       " 'RandomInvert',\n",
       " 'RandomOrder',\n",
       " 'RandomPerspective',\n",
       " 'RandomPosterize',\n",
       " 'RandomResizedCrop',\n",
       " 'RandomRotation',\n",
       " 'RandomSolarize',\n",
       " 'RandomVerticalFlip',\n",
       " 'Resize',\n",
       " 'TenCrop',\n",
       " 'ToPILImage',\n",
       " 'ToTensor',\n",
       " 'TrivialAugmentWide',\n",
       " '__builtins__',\n",
       " '__cached__',\n",
       " '__doc__',\n",
       " '__file__',\n",
       " '__loader__',\n",
       " '__name__',\n",
       " '__package__',\n",
       " '__path__',\n",
       " '__spec__',\n",
       " '_functional_pil',\n",
       " '_functional_tensor',\n",
       " '_presets',\n",
       " 'autoaugment',\n",
       " 'functional',\n",
       " 'transforms']"
      ]
     },
     "execution_count": 15,
     "metadata": {},
     "output_type": "execute_result"
    }
   ],
   "source": [
    "dir(transforms)"
   ]
  },
  {
   "cell_type": "markdown",
   "metadata": {},
   "source": [
    "#### Ćwiczenie\n",
    "\n",
    "Do konwersji wybranego obrazka z CIFAR10 z `PIL.Image` do `torch.Tensor` użyj transformacji `transforms.ToTensor()`. Należy najpierw przypisać `transforms.ToTensor()` do zmiennej, np. `to_tensor`, a następnie wywołać `to_tensor(img)` i wynik przypisać do zmiennej, np. `img_t`.\n",
    "\n",
    "1. Sprawdź zawartość `img_t` oraz wartość `img_t.shape`. Zajrzyj też w \"oryginalny\" `img` - użyj `list(img.getdata())`.\n",
    "2. Co się stało z wartościami w `img_t` w porównaniu z `img`? Jak zinterpretować kolejne wymiary tego tensora w `img_t.shape`?\n",
    "\n",
    "- https://pytorch.org/vision/stable/transforms.html#torchvision.transforms.ToTensor"
   ]
  },
  {
   "cell_type": "code",
   "execution_count": 16,
   "metadata": {},
   "outputs": [
    {
     "name": "stdout",
     "output_type": "stream",
     "text": [
      "Files already downloaded and verified\n",
      "Tensor tensor([[[0.2314, 0.1686, 0.1961,  ..., 0.6196, 0.5961, 0.5804],\n",
      "         [0.0627, 0.0000, 0.0706,  ..., 0.4824, 0.4667, 0.4784],\n",
      "         [0.0980, 0.0627, 0.1922,  ..., 0.4627, 0.4706, 0.4275],\n",
      "         ...,\n",
      "         [0.8157, 0.7882, 0.7765,  ..., 0.6275, 0.2196, 0.2078],\n",
      "         [0.7059, 0.6784, 0.7294,  ..., 0.7216, 0.3804, 0.3255],\n",
      "         [0.6941, 0.6588, 0.7020,  ..., 0.8471, 0.5922, 0.4824]],\n",
      "\n",
      "        [[0.2431, 0.1804, 0.1882,  ..., 0.5176, 0.4902, 0.4863],\n",
      "         [0.0784, 0.0000, 0.0314,  ..., 0.3451, 0.3255, 0.3412],\n",
      "         [0.0941, 0.0275, 0.1059,  ..., 0.3294, 0.3294, 0.2863],\n",
      "         ...,\n",
      "         [0.6667, 0.6000, 0.6314,  ..., 0.5216, 0.1216, 0.1333],\n",
      "         [0.5451, 0.4824, 0.5647,  ..., 0.5804, 0.2431, 0.2078],\n",
      "         [0.5647, 0.5059, 0.5569,  ..., 0.7216, 0.4627, 0.3608]],\n",
      "\n",
      "        [[0.2471, 0.1765, 0.1686,  ..., 0.4235, 0.4000, 0.4039],\n",
      "         [0.0784, 0.0000, 0.0000,  ..., 0.2157, 0.1961, 0.2235],\n",
      "         [0.0824, 0.0000, 0.0314,  ..., 0.1961, 0.1961, 0.1647],\n",
      "         ...,\n",
      "         [0.3765, 0.1333, 0.1020,  ..., 0.2745, 0.0275, 0.0784],\n",
      "         [0.3765, 0.1647, 0.1176,  ..., 0.3686, 0.1333, 0.1333],\n",
      "         [0.4549, 0.3686, 0.3412,  ..., 0.5490, 0.3294, 0.2824]]])\n",
      "Ksztalt tensora torch.Size([3, 32, 32])\n",
      "fragment danych z oryginalu [(59, 62, 63), (43, 46, 45), (50, 48, 43), (68, 54, 42), (98, 73, 52), (119, 91, 63), (139, 107, 75), (145, 110, 80), (149, 117, 89), (149, 120, 93)]\n"
     ]
    },
    {
     "data": {
      "image/png": "[encoded data removed]",
      "text/plain": [
       "<Figure size 200x200 with 1 Axes>"
      ]
     },
     "metadata": {},
     "output_type": "display_data"
    }
   ],
   "source": [
    "from torchvision.datasets import CIFAR10\n",
    "# wczytanie obrazka\n",
    "cifar10 = CIFAR10(root='./data', train=True, download=True)\n",
    "img, label = cifar10[0] \n",
    "\n",
    "# konwersja obrazka do tensora\n",
    "to_tensor = transforms.ToTensor()\n",
    "img_t = to_tensor(img)\n",
    "\n",
    "# sprawdzanie zawartosci \n",
    "print(\"Tensor\", img_t)\n",
    "print(\"Ksztalt tensora\", img_t.shape)\n",
    "\n",
    "# sprawdzanie oryginalu\n",
    "img_data = list(img.getdata())\n",
    "print(\"fragment danych z oryginalu\", img_data[:10]) \n",
    "\n",
    "plt.figure(figsize=(2, 2))\n",
    "plt.imshow(img)\n",
    "plt.title(\"Oryginalny obrazek\")\n",
    "plt.show()\n",
    "\n"
   ]
  },
  {
   "cell_type": "markdown",
   "metadata": {},
   "source": [
    "wartości obrazka sa znormalizowane do zakresu od 0 do 1, interpretacja wymiarow: kolory rgb i szerokosc i wysokosc obrazka"
   ]
  },
  {
   "cell_type": "markdown",
   "metadata": {},
   "source": [
    "#### Ćwiczenie\n",
    "Transformację `ToTensor()` można podać jako argument `transform` przy tworzeniu zbioru danych jako `Dataset`. Tak utworzony zbiór od razu będzie zawierał PyTorchowe tensory, a nie obrazki `PIL.Image`. \n",
    "\n",
    "Stwórz `tensor_cifar10` i `tensor_cifar10_val` zawierające tensory."
   ]
  },
  {
   "cell_type": "code",
   "execution_count": 18,
   "metadata": {},
   "outputs": [
    {
     "name": "stdout",
     "output_type": "stream",
     "text": [
      "Files already downloaded and verified\n",
      "Files already downloaded and verified\n",
      "Tensor tensor([[[0.2314, 0.1686, 0.1961,  ..., 0.6196, 0.5961, 0.5804],\n",
      "         [0.0627, 0.0000, 0.0706,  ..., 0.4824, 0.4667, 0.4784],\n",
      "         [0.0980, 0.0627, 0.1922,  ..., 0.4627, 0.4706, 0.4275],\n",
      "         ...,\n",
      "         [0.8157, 0.7882, 0.7765,  ..., 0.6275, 0.2196, 0.2078],\n",
      "         [0.7059, 0.6784, 0.7294,  ..., 0.7216, 0.3804, 0.3255],\n",
      "         [0.6941, 0.6588, 0.7020,  ..., 0.8471, 0.5922, 0.4824]],\n",
      "\n",
      "        [[0.2431, 0.1804, 0.1882,  ..., 0.5176, 0.4902, 0.4863],\n",
      "         [0.0784, 0.0000, 0.0314,  ..., 0.3451, 0.3255, 0.3412],\n",
      "         [0.0941, 0.0275, 0.1059,  ..., 0.3294, 0.3294, 0.2863],\n",
      "         ...,\n",
      "         [0.6667, 0.6000, 0.6314,  ..., 0.5216, 0.1216, 0.1333],\n",
      "         [0.5451, 0.4824, 0.5647,  ..., 0.5804, 0.2431, 0.2078],\n",
      "         [0.5647, 0.5059, 0.5569,  ..., 0.7216, 0.4627, 0.3608]],\n",
      "\n",
      "        [[0.2471, 0.1765, 0.1686,  ..., 0.4235, 0.4000, 0.4039],\n",
      "         [0.0784, 0.0000, 0.0000,  ..., 0.2157, 0.1961, 0.2235],\n",
      "         [0.0824, 0.0000, 0.0314,  ..., 0.1961, 0.1961, 0.1647],\n",
      "         ...,\n",
      "         [0.3765, 0.1333, 0.1020,  ..., 0.2745, 0.0275, 0.0784],\n",
      "         [0.3765, 0.1647, 0.1176,  ..., 0.3686, 0.1333, 0.1333],\n",
      "         [0.4549, 0.3686, 0.3412,  ..., 0.5490, 0.3294, 0.2824]]])\n",
      "Ksztalt torch.Size([3, 32, 32])\n",
      "Etykieta 6\n"
     ]
    }
   ],
   "source": [
    "# konwersja do tensora\n",
    "transform_to_tensor = transforms.ToTensor()\n",
    "\n",
    "# zbior treningowy\n",
    "tensor_cifar10 = datasets.CIFAR10(root='./data', train=True, download=True, transform=transform_to_tensor)\n",
    "\n",
    "# zbior walidacyjny\n",
    "tensor_cifar10_val = datasets.CIFAR10(root='./data', train=False, download=True, transform=transform_to_tensor)\n",
    "\n",
    "img_tensor, label = tensor_cifar10[0]  \n",
    "print(\"Tensor\", img_tensor)\n",
    "print(\"Ksztalt\", img_tensor.shape)\n",
    "print(\"Etykieta\", label)\n"
   ]
  },
  {
   "cell_type": "markdown",
   "metadata": {},
   "source": [
    "#### Ćwiczenie\n",
    "Uruchom poniższą komórkę, aby zwizualizować tensor `img_t` z użyciem `plt.imshow()`. Funkcja ta oczekuje innej kolejności współrzędnych (H x W x C) niż zawarta w tensorze (C x H x W) - stąd konieczność użycia metody `permute()`.\n",
    "\n",
    "H - wysokość, W - szerokość, C - kanał (RGB)"
   ]
  },
  {
   "cell_type": "code",
   "execution_count": 19,
   "metadata": {},
   "outputs": [
    {
     "name": "stdout",
     "output_type": "stream",
     "text": [
      "ship\n"
     ]
    },
    {
     "data": {
      "image/png": "[encoded data removed]",
      "text/plain": [
       "<Figure size 640x480 with 1 Axes>"
      ]
     },
     "metadata": {},
     "output_type": "display_data"
    }
   ],
   "source": [
    "index = 100\n",
    "\n",
    "img_t, label = tensor_cifar10[index]\n",
    "plt.imshow(img_t.permute(1, 2, 0))\n",
    "\n",
    "print(class_names[label])"
   ]
  },
  {
   "cell_type": "markdown",
   "metadata": {},
   "source": [
    "### Normalizacja danych\n",
    "\n",
    "Przed użyciem w sieci neuronowej, należy odpowiednio znormalizować dane - normalizacja ułatwia (przyspiesza i stabilizuje) trening modelu. \n",
    "\n",
    "Typowym sposobem normalizacji danych obrazkowych jest standaryzacja każdego z dostępnych kanałów - odjęcie policzonej dla niego średniej ze zbioru uczącego i podzielenie przez jego odchylenie standardowe."
   ]
  },
  {
   "cell_type": "markdown",
   "metadata": {},
   "source": [
    "#### Ćwiczenie\n",
    "Uruchom kolejne komórki. Spróbuj wyjaśnić, co się w nich dzieje.\n",
    "\n",
    "- https://pytorch.org/docs/stable/generated/torch.stack.html (dla przypomnienia)\n",
    "- https://pytorch.org/docs/stable/tensors.html#torch.Tensor.view"
   ]
  },
  {
   "cell_type": "code",
   "execution_count": 20,
   "metadata": {},
   "outputs": [],
   "source": [
    "imgs = torch.stack([img_t for img_t, _ in tensor_cifar10], dim=3)"
   ]
  },
  {
   "cell_type": "code",
   "execution_count": 21,
   "metadata": {},
   "outputs": [
    {
     "data": {
      "text/plain": [
       "torch.Size([3, 32, 32, 50000])"
      ]
     },
     "execution_count": 21,
     "metadata": {},
     "output_type": "execute_result"
    }
   ],
   "source": [
    "imgs.shape"
   ]
  },
  {
   "cell_type": "code",
   "execution_count": 22,
   "metadata": {},
   "outputs": [],
   "source": [
    "per_channel_means = imgs.view(3, -1).mean(dim=1)\n",
    "per_channel_std = imgs.view(3, -1).std(dim=1)"
   ]
  },
  {
   "cell_type": "markdown",
   "metadata": {},
   "source": [
    "wygląda na to że chodzi o złożenie kilku tensorów w jeden, a potem policzenie z tego std i sredniej"
   ]
  },
  {
   "cell_type": "markdown",
   "metadata": {},
   "source": [
    "#### Ćwiczenie\n",
    "\n",
    "Do normalizacji danych w `torchvision.transforms` słuzy `transforms.Normalize`, której należy podać średnie i odchylenia standardowe dla każdego z kanałów. `transforms.Compose` pozwala natomiast łączyć transformacje w sekwencje - są one aplikowane do danych ładowanych do `Dataset` po kolei.\n",
    "\n",
    "`transforms.Compose` przyjmuje jako argument listę kolejnych transformacji.\n",
    "\n",
    "Załaduj zbiór danych do zmiennej `transformed_cifar10`, podając jako argument `transform` złożenie transformacji `ToTensor` i `Normalize`\n",
    "\n",
    "Sprawdź zawartość dowolnego tensora z `transformed_cifar10`.\n",
    "\n",
    "\n",
    "- https://pytorch.org/vision/stable/transforms.html#torchvision.transforms.Normalize\n",
    "- https://pytorch.org/vision/stable/transforms.html#torchvision.transforms.Compose\n"
   ]
  },
  {
   "cell_type": "code",
   "execution_count": 23,
   "metadata": {},
   "outputs": [
    {
     "name": "stdout",
     "output_type": "stream",
     "text": [
      "Files already downloaded and verified\n",
      "Files already downloaded and verified\n",
      "transformed_cifar10\n",
      "(tensor([[[-0.5373, -0.6627, -0.6078,  ...,  0.2392,  0.1922,  0.1608],\n",
      "         [-0.8745, -1.0000, -0.8588,  ..., -0.0353, -0.0667, -0.0431],\n",
      "         [-0.8039, -0.8745, -0.6157,  ..., -0.0745, -0.0588, -0.1451],\n",
      "         ...,\n",
      "         [ 0.6314,  0.5765,  0.5529,  ...,  0.2549, -0.5608, -0.5843],\n",
      "         [ 0.4118,  0.3569,  0.4588,  ...,  0.4431, -0.2392, -0.3490],\n",
      "         [ 0.3882,  0.3176,  0.4039,  ...,  0.6941,  0.1843, -0.0353]],\n",
      "\n",
      "        [[-0.5137, -0.6392, -0.6235,  ...,  0.0353, -0.0196, -0.0275],\n",
      "         [-0.8431, -1.0000, -0.9373,  ..., -0.3098, -0.3490, -0.3176],\n",
      "         [-0.8118, -0.9451, -0.7882,  ..., -0.3412, -0.3412, -0.4275],\n",
      "         ...,\n",
      "         [ 0.3333,  0.2000,  0.2627,  ...,  0.0431, -0.7569, -0.7333],\n",
      "         [ 0.0902, -0.0353,  0.1294,  ...,  0.1608, -0.5137, -0.5843],\n",
      "         [ 0.1294,  0.0118,  0.1137,  ...,  0.4431, -0.0745, -0.2784]],\n",
      "\n",
      "        [[-0.5059, -0.6471, -0.6627,  ..., -0.1529, -0.2000, -0.1922],\n",
      "         [-0.8431, -1.0000, -1.0000,  ..., -0.5686, -0.6078, -0.5529],\n",
      "         [-0.8353, -1.0000, -0.9373,  ..., -0.6078, -0.6078, -0.6706],\n",
      "         ...,\n",
      "         [-0.2471, -0.7333, -0.7961,  ..., -0.4510, -0.9451, -0.8431],\n",
      "         [-0.2471, -0.6706, -0.7647,  ..., -0.2627, -0.7333, -0.7333],\n",
      "         [-0.0902, -0.2627, -0.3176,  ...,  0.0980, -0.3412, -0.4353]]]), 6)\n"
     ]
    }
   ],
   "source": [
    "transform = transforms.Compose(\n",
    "    [transforms.ToTensor(), # Konwersja do tensorow\n",
    "     transforms.Normalize((0.5, 0.5, 0.5), (0.5, 0.5, 0.5))] # normalizacja\n",
    ")\n",
    "\n",
    "# zbior uczacy\n",
    "transformed_cifar10 = torchvision.datasets.CIFAR10(root='./data', train=True,\n",
    "                                        download=True, transform=transform)\n",
    "\n",
    "# zbior walidacyjny\n",
    "transformed_cifar10_val = torchvision.datasets.CIFAR10(root='./data', train=False,\n",
    "                                           download=True, transform=transform)\n",
    "\n",
    "sample_img = transformed_cifar10[0]\n",
    "print(\"transformed_cifar10\")\n",
    "print(sample_img)\n"
   ]
  },
  {
   "cell_type": "markdown",
   "metadata": {},
   "source": [
    "### Klasyfikacja binarna - ptak czy samolot?\n",
    "\n",
    "Po przygotowaniu zbioru danych przejdziemy teraz do zadania klasyfikacji binarnej.\n",
    "\n",
    "Wyobraź sobie, że jesteś leniwym miłośnikiem ptaków, i zamiast wyczekiwać długimi godzinami w lesie, chciałbyś/chciałabyś zautomatyzować proces robienia zdjęć ptakom. Niestety Twój system kamer jest dość wrażliwy i robi zdjęcia często także przelatującym samolotom. Postanawiasz wytrenować sieć neuronową, która wykryje zdjęcia samolotów i usunie je z Twojego systemu."
   ]
  },
  {
   "cell_type": "markdown",
   "metadata": {},
   "source": [
    "#### Ćwiczenie\n",
    "\n",
    "Do opisanego problemu klasyfikacji binarnej możemy wykorzystać podzbiór `CIFAR-10`, wybierając odpowiednio dwie z 10 dostępnych klas. Przypisz im (z wykorzystaniem słownika `label_map`) nowe etykiety - 0 i 1.\n",
    "\n",
    "Uwaga: \n",
    "Stworzone w ten sposób `cifar2` i `cifar2_val` nie będą obiektami klasy `Dataset`, ale na potrzeby dzisiejszych zajęć w zupełności wystarczy nam lista - posiada ona implementacje `__len__` i `__getitem__`.  Wykorzystaj \"list comprehension\" do przefiltrowania `transformed_cifar10` i `transformed_cifar10_val`."
   ]
  },
  {
   "cell_type": "code",
   "execution_count": 24,
   "metadata": {},
   "outputs": [],
   "source": [
    "label_map = label_map = {'bird': 0, 'airplane': 1}\n",
    "new_class_names  = [class_names[i] for i in label_map.values()]\n",
    "\n",
    "cifar2 = [(img, label_map[class_names[label]]) for img, label in transformed_cifar10 if class_names[label] in label_map]\n",
    "cifar2_val = [(img, label_map[class_names[label]]) for img, label in transformed_cifar10 if class_names[label] in label_map]\n"
   ]
  },
  {
   "cell_type": "code",
   "execution_count": 25,
   "metadata": {},
   "outputs": [
    {
     "name": "stdout",
     "output_type": "stream",
     "text": [
      "zbior treningowy 10000\n",
      "zbior walidacyjny10000\n",
      "pierwsze etykiety w treningowym [0, 0, 0, 0, 1]\n"
     ]
    }
   ],
   "source": [
    "print(f'zbior treningowy {len(cifar2)}')\n",
    "print(f'zbior walidacyjny{len(cifar2_val)}')\n",
    "print(f'pierwsze etykiety w treningowym {[label for _, label in cifar2[:5]]}')\n"
   ]
  },
  {
   "cell_type": "markdown",
   "metadata": {},
   "source": [
    "### Gęsta sieć neuronowa\n",
    "\n",
    "Zbudujemy teraz model sieci neuronowej, wykorzystując poznane poprzednio moduły z `torch.nn`.\n",
    "\n",
    "Na początek niech sieć składa się kolejno z:\n",
    "- warstwy liniowej\n",
    "- funkcji aktywacji\n",
    "- drugiej warstwy liniowej\n",
    "\n",
    "Do zbudowania sieci użyj `nn.Sequential` oraz odpowiednich klas reprezentujących warstwy liniowe i wybraną funkcję aktywacji."
   ]
  },
  {
   "cell_type": "markdown",
   "metadata": {},
   "source": [
    "#### Ćwiczenie\n",
    "\n",
    "Zbuduj sieć neuronową, zgodnie z powyższą (i poniższą) instrukcją. Przypisz model do zmiennej `model`.\n",
    "\n",
    "1. Ile wejść powinna mieć taka sieć? Hint: wymiary / rozmiary tensora.\n",
    "2. Ile wyjść powinna mieć taka sieć? Czy jedno wystarczy?\n",
    "3. Niech liczba wyjść z pierwszej i wejść do drugiej warstwy liniowej wynosi 512 (arbitralna wartość)."
   ]
  },
  {
   "cell_type": "code",
   "execution_count": 26,
   "metadata": {},
   "outputs": [],
   "source": [
    "n_in = 32 * 32 * 3  # rozmiar wejsciowy cifar10\n",
    "n_hidden = 512 \n",
    "n_out = 2  # klasy ptak i samolot\n",
    "\n",
    "model = nn.Sequential(\n",
    "    nn.Linear(n_in, n_hidden),  # 1 warstwa liniowa\n",
    "    nn.ReLU(),  # funkcja aktywacji\n",
    "    nn.Linear(n_hidden, n_out)  # 2 warstwa\n",
    ")\n"
   ]
  },
  {
   "cell_type": "markdown",
   "metadata": {},
   "source": [
    "### Wyjście z klasyfikatora - softmax\n",
    "\n",
    "Wyjścia z powyżej zdefiniowanego modelu to tzw. logity - \"surowe\" wartości liczbowe - tyle wartości, ile wyjść. Im wyższa wartość danego logitu, tym model \"bardziej przewiduje\" klasę przypisaną do danego wyjścia. \n",
    "\n",
    "Typowo w zagadnieniu klasyfikacji logity normalizuje się z użyciem funkcji **softmax** (przy jednym wyjściu \"wystarczy\" sigmoid). Wartości otrzymane w wyniku normalizacji można interpretować jako prawdopodobieństwa / pewności (ang. confidence scores) modelu co do predykcji klasy obiektu."
   ]
  },
  {
   "cell_type": "markdown",
   "metadata": {},
   "source": [
    "#### Ćwiczenie\n",
    "\n",
    "Sprawdź działanie funkcji softmax zdefiniowanej poniżej oraz zaimplementowanej jako `nn.Softmax` na przykładowym tensorze."
   ]
  },
  {
   "cell_type": "code",
   "execution_count": 27,
   "metadata": {},
   "outputs": [],
   "source": [
    "def softmax(x):\n",
    "    return torch.exp(x) / torch.exp(x).sum()"
   ]
  },
  {
   "cell_type": "code",
   "execution_count": 28,
   "metadata": {},
   "outputs": [
    {
     "data": {
      "text/plain": [
       "tensor([0.0900, 0.2447, 0.6652])"
      ]
     },
     "execution_count": 28,
     "metadata": {},
     "output_type": "execute_result"
    }
   ],
   "source": [
    "x = torch.tensor([1.0, 2.0, 3.0])\n",
    "softmax(x)"
   ]
  },
  {
   "cell_type": "code",
   "execution_count": 29,
   "metadata": {},
   "outputs": [
    {
     "data": {
      "text/plain": [
       "tensor([[0.0900, 0.2447, 0.6652],\n",
       "        [0.0900, 0.2447, 0.6652]])"
      ]
     },
     "execution_count": 29,
     "metadata": {},
     "output_type": "execute_result"
    }
   ],
   "source": [
    "softmax = nn.Softmax(dim=1)\n",
    "x = torch.tensor([[1.0, 2.0, 3.0], [1.0, 2.0, 3.0]])\n",
    "softmax(x)"
   ]
  },
  {
   "cell_type": "markdown",
   "metadata": {},
   "source": [
    "#### Ćwiczenie\n",
    "Rozbuduj poprzednio zbudowany model o `nn.Softmax` podając `dim=1` (dlaczego akurat 1? czym jest dim=0?)\n",
    "\n",
    "- https://pytorch.org/docs/stable/generated/torch.nn.Softmax.html"
   ]
  },
  {
   "cell_type": "code",
   "execution_count": 30,
   "metadata": {},
   "outputs": [],
   "source": [
    "model = nn.Sequential(\n",
    "    nn.Linear(n_in, n_hidden),  \n",
    "    nn.ReLU(),  \n",
    "    nn.Linear(n_hidden, n_out),  \n",
    "    nn.Softmax(dim=1) \n",
    ")\n"
   ]
  },
  {
   "cell_type": "markdown",
   "metadata": {},
   "source": [
    "ogolnie softmax uzywa się do klasyfikacji wieloklasowej a nie binarnej, do binarnej tylko jesli chcemy dostać prawdopodobieństwa, zatem dim=1 musi być żeby obliczyć softmax wzdluż drugiego wymiaru tensora, dim=0 sluzy do obliczania wzdłuż kolumn, dim=1 wzdłuż wierszy."
   ]
  },
  {
   "cell_type": "markdown",
   "metadata": {},
   "source": [
    "#### Ćwiczenie\n",
    "Przepuść przez model wybrany przykład ze zbioru `cifar2`. Czy model dobrze rozpoznał klasę? Jeśli tak - czy mamy gotowy model?"
   ]
  },
  {
   "cell_type": "code",
   "execution_count": 31,
   "metadata": {},
   "outputs": [
    {
     "name": "stderr",
     "output_type": "stream",
     "text": [
      "Clipping input data to the valid range for imshow with RGB data ([0..1] for floats or [0..255] for integers).\n"
     ]
    },
    {
     "data": {
      "image/png": "[encoded data removed]",
      "text/plain": [
       "<Figure size 640x480 with 1 Axes>"
      ]
     },
     "metadata": {},
     "output_type": "display_data"
    },
    {
     "name": "stdout",
     "output_type": "stream",
     "text": [
      "tensor([[0.5088, 0.4912]], grad_fn=<SoftmaxBackward0>)\n",
      "airplane\n"
     ]
    }
   ],
   "source": [
    "# wizualizacja obrazka\n",
    "index = 0\n",
    "\n",
    "img, _ = cifar2[0]\n",
    "img, _ = cifar2[index]\n",
    "plt.imshow(img.permute(1, 2, 0))\n",
    "plt.show()\n",
    "\n",
    "# \"wypłaszczenie\" obrazka + dodatkowy wymiar \"1\" (unsqueeze - patrz poprzednie zajęcia)\n",
    "img_batch = img.view(-1).unsqueeze(0)\n",
    "\n",
    "# przepuszczenie przez model\n",
    "out = model(img_batch)\n",
    "\n",
    "# prawdopodobieństwa klas\n",
    "print(out)\n",
    "# klasa predykcji\n",
    "print(new_class_names[torch.argmax(out, dim=1).item()])\n",
    "\n"
   ]
  },
  {
   "cell_type": "markdown",
   "metadata": {},
   "source": [
    "model nie rozpoznal klasy poprawnie"
   ]
  },
  {
   "cell_type": "markdown",
   "metadata": {},
   "source": [
    "### Funkcja straty w klasyfikacji\n",
    "\n",
    "W przypadku zadania regresji jako funkcji straty używaliśmy błędu średniokwadratowego (MSE, `nn.MSELoss`).\n",
    "\n",
    "W klasyfikacji zależy nam na tym, aby model nauczył się przypisywać wysokie prawdopodobieństwa prawidłowym klasom.\n",
    "\n",
    "Funkcja straty typowo stosowana w klasyfikacji nazywa się **entropią krzyżową** (ang. cross-entropy loss, CE) lub **negative log-likelihood** (NLL) - używana nazwa zależy od kontekstu (matematycznego), ale oba pojęcia dotyczą tego samego \"wzoru\".\n",
    "\n",
    "W `torch.nn` jest kilka alternatywnych implementacji realizujących tę funkcję straty, np.:\n",
    "- `nn.NLLLoss` - przyjmuje na wejście zlogarytmowane prawdopodobieństwa klas - wymaga `nn.LogSoftmax` zamiast `nn.Softmax`\n",
    "- `nn.CrossEntropyLoss` - przyjmuje na wejście logity - model bez softmaxu\n",
    "\n",
    "czyli: `nn.CrossEntropyLoss` = `nn.LogSoftmax` + `nn.NLLLoss`\n",
    "\n",
    "różnica: w przypadku `nn.CrossEntropyLoss` wyjścia nie będą znormalizowane - ale często wystarczą nam logity (jako predykcję modelu bierzemy klasę, dla której wartość logitu jest największa)."
   ]
  },
  {
   "cell_type": "markdown",
   "metadata": {},
   "source": [
    "#### Ćwiczenie\n",
    "\n",
    "Dla modelu z poprzedniego ćwiczenia oblicz wartość funkcji straty dla wybranego przykładu z `cifar2`. Uruchom komórkę kilka razy - co się dzieje i dlaczego?"
   ]
  },
  {
   "cell_type": "code",
   "execution_count": 32,
   "metadata": {},
   "outputs": [
    {
     "name": "stdout",
     "output_type": "stream",
     "text": [
      "tensor(0.6844, grad_fn=<NllLossBackward0>)\n",
      "tensor([[0.5088, 0.4912]], grad_fn=<SoftmaxBackward0>) 0\n"
     ]
    }
   ],
   "source": [
    "model = model\n",
    "loss = nn.CrossEntropyLoss()\n",
    "\n",
    "index = 0\n",
    "img, label = cifar2[index]\n",
    "out = model(img.view(-1).unsqueeze(0))\n",
    "print(loss(out, torch.tensor([label])))\n",
    "print(out, label)"
   ]
  },
  {
   "cell_type": "markdown",
   "metadata": {},
   "source": [
    "funkcja straty sie zmienia poniewaz wagi sa aktualizowane po kazdym wywolaniu funkcji straty, a wagi sa inicjowane losowo, zeby tego nie bylo trzeba uzyc funkcji manual_seed"
   ]
  },
  {
   "cell_type": "markdown",
   "metadata": {},
   "source": [
    "### Stochastic Gradient Descent (SGD)\n",
    "\n",
    "W poprzednich ćwiczeniach zbiór danych był mały (łącznie 11 obserwacji, w tym 9 w zbiorze uczącym) i w każdej iteracji treningu przepuszczaliśmy przez model cały dostępny zbiór. \n",
    "\n",
    "W zbiorze `CIFAR` mamy łącznie po 6 tysięcy obrazków dla każdej z klas (5000 w zbiorze uczącym, 1000 w walidacyjnym). Nie będziemy w każdej iteracji treningu przepuszczać przez model całego zbioru danych (nie chodzi tylko o ograniczoną pamięć - model mógłby mieć wtedy problem z nauczeniem się).\n",
    "\n",
    "Będziemy podawać dane w tzw. \"batchach\" (liczba przykładów podawanych jednocześnie, czyli batch size, jest hiperparametrem modelu).\n",
    "\n",
    "Taki wariant algorytmu najszybszego spadku nazywa się:\n",
    "- SGD - Stochastic Gradient Descent - gdy podajemy jeden przykład w każdej iteracji\n",
    "- BGD - (Mini-)Batch Gradient Descent - gdy podajemy N przykładów (np. kilka / kilkanaście / kilkadziesiąt) w każdej iteracji\n",
    "\n",
    "Uwaga:\n",
    "W praktyce (i w literaturze) nazwa \"SGD\" używana jest tez w kontekście BGD."
   ]
  },
  {
   "cell_type": "markdown",
   "metadata": {},
   "source": [
    "#### Ćwiczenie\n",
    "\n",
    "Poniższa komórka realizuje algorytm SGD - w każdej iteracji treningu puszczamy przez model jeden obrazek (druga pętla for).\n",
    "\n",
    "Uruchom poniższą komórkę i obserwuj funkcję straty po każdej epoce treningu."
   ]
  },
  {
   "cell_type": "code",
   "execution_count": 97,
   "metadata": {},
   "outputs": [
    {
     "name": "stdout",
     "output_type": "stream",
     "text": [
      "Epoch: 0, Loss: 2.478211\n",
      "Epoch: 1, Loss: 2.949780\n",
      "Epoch: 2, Loss: 2.481314\n",
      "Epoch: 3, Loss: 3.239796\n",
      "Epoch: 4, Loss: 2.356571\n",
      "Epoch: 5, Loss: 2.154310\n",
      "Epoch: 6, Loss: 2.309494\n",
      "Epoch: 7, Loss: 6.419871\n",
      "Epoch: 8, Loss: 7.424988\n",
      "Epoch: 9, Loss: 14.669484\n",
      "Epoch: 10, Loss: 5.440632\n",
      "Epoch: 11, Loss: 9.646564\n",
      "Epoch: 12, Loss: 11.119031\n",
      "Epoch: 13, Loss: 6.854775\n",
      "Epoch: 14, Loss: 11.899684\n"
     ]
    },
    {
     "ename": "KeyboardInterrupt",
     "evalue": "",
     "output_type": "error",
     "traceback": [
      "\u001b[0;31m---------------------------------------------------------------------------\u001b[0m",
      "\u001b[0;31mKeyboardInterrupt\u001b[0m                         Traceback (most recent call last)",
      "Cell \u001b[0;32mIn[97], line 19\u001b[0m\n\u001b[1;32m     17\u001b[0m     loss \u001b[38;5;241m=\u001b[39m loss_fn(out, torch\u001b[38;5;241m.\u001b[39mtensor([label]))\n\u001b[1;32m     18\u001b[0m     optimizer\u001b[38;5;241m.\u001b[39mzero_grad()\n\u001b[0;32m---> 19\u001b[0m     \u001b[43mloss\u001b[49m\u001b[38;5;241;43m.\u001b[39;49m\u001b[43mbackward\u001b[49m\u001b[43m(\u001b[49m\u001b[43m)\u001b[49m\n\u001b[1;32m     20\u001b[0m     optimizer\u001b[38;5;241m.\u001b[39mstep()\n\u001b[1;32m     21\u001b[0m \u001b[38;5;28mprint\u001b[39m(\u001b[38;5;124m\"\u001b[39m\u001b[38;5;124mEpoch: \u001b[39m\u001b[38;5;132;01m%d\u001b[39;00m\u001b[38;5;124m, Loss: \u001b[39m\u001b[38;5;132;01m%f\u001b[39;00m\u001b[38;5;124m\"\u001b[39m \u001b[38;5;241m%\u001b[39m (epoch, \u001b[38;5;28mfloat\u001b[39m(loss)))\n",
      "File \u001b[0;32m~/opt/miniconda3/lib/python3.9/site-packages/torch/_tensor.py:522\u001b[0m, in \u001b[0;36mTensor.backward\u001b[0;34m(self, gradient, retain_graph, create_graph, inputs)\u001b[0m\n\u001b[1;32m    512\u001b[0m \u001b[38;5;28;01mif\u001b[39;00m has_torch_function_unary(\u001b[38;5;28mself\u001b[39m):\n\u001b[1;32m    513\u001b[0m     \u001b[38;5;28;01mreturn\u001b[39;00m handle_torch_function(\n\u001b[1;32m    514\u001b[0m         Tensor\u001b[38;5;241m.\u001b[39mbackward,\n\u001b[1;32m    515\u001b[0m         (\u001b[38;5;28mself\u001b[39m,),\n\u001b[0;32m   (...)\u001b[0m\n\u001b[1;32m    520\u001b[0m         inputs\u001b[38;5;241m=\u001b[39minputs,\n\u001b[1;32m    521\u001b[0m     )\n\u001b[0;32m--> 522\u001b[0m \u001b[43mtorch\u001b[49m\u001b[38;5;241;43m.\u001b[39;49m\u001b[43mautograd\u001b[49m\u001b[38;5;241;43m.\u001b[39;49m\u001b[43mbackward\u001b[49m\u001b[43m(\u001b[49m\n\u001b[1;32m    523\u001b[0m \u001b[43m    \u001b[49m\u001b[38;5;28;43mself\u001b[39;49m\u001b[43m,\u001b[49m\u001b[43m \u001b[49m\u001b[43mgradient\u001b[49m\u001b[43m,\u001b[49m\u001b[43m \u001b[49m\u001b[43mretain_graph\u001b[49m\u001b[43m,\u001b[49m\u001b[43m \u001b[49m\u001b[43mcreate_graph\u001b[49m\u001b[43m,\u001b[49m\u001b[43m \u001b[49m\u001b[43minputs\u001b[49m\u001b[38;5;241;43m=\u001b[39;49m\u001b[43minputs\u001b[49m\n\u001b[1;32m    524\u001b[0m \u001b[43m\u001b[49m\u001b[43m)\u001b[49m\n",
      "File \u001b[0;32m~/opt/miniconda3/lib/python3.9/site-packages/torch/autograd/__init__.py:266\u001b[0m, in \u001b[0;36mbackward\u001b[0;34m(tensors, grad_tensors, retain_graph, create_graph, grad_variables, inputs)\u001b[0m\n\u001b[1;32m    261\u001b[0m     retain_graph \u001b[38;5;241m=\u001b[39m create_graph\n\u001b[1;32m    263\u001b[0m \u001b[38;5;66;03m# The reason we repeat the same comment below is that\u001b[39;00m\n\u001b[1;32m    264\u001b[0m \u001b[38;5;66;03m# some Python versions print out the first line of a multi-line function\u001b[39;00m\n\u001b[1;32m    265\u001b[0m \u001b[38;5;66;03m# calls in the traceback and some print out the last line\u001b[39;00m\n\u001b[0;32m--> 266\u001b[0m \u001b[43mVariable\u001b[49m\u001b[38;5;241;43m.\u001b[39;49m\u001b[43m_execution_engine\u001b[49m\u001b[38;5;241;43m.\u001b[39;49m\u001b[43mrun_backward\u001b[49m\u001b[43m(\u001b[49m\u001b[43m  \u001b[49m\u001b[38;5;66;43;03m# Calls into the C++ engine to run the backward pass\u001b[39;49;00m\n\u001b[1;32m    267\u001b[0m \u001b[43m    \u001b[49m\u001b[43mtensors\u001b[49m\u001b[43m,\u001b[49m\n\u001b[1;32m    268\u001b[0m \u001b[43m    \u001b[49m\u001b[43mgrad_tensors_\u001b[49m\u001b[43m,\u001b[49m\n\u001b[1;32m    269\u001b[0m \u001b[43m    \u001b[49m\u001b[43mretain_graph\u001b[49m\u001b[43m,\u001b[49m\n\u001b[1;32m    270\u001b[0m \u001b[43m    \u001b[49m\u001b[43mcreate_graph\u001b[49m\u001b[43m,\u001b[49m\n\u001b[1;32m    271\u001b[0m \u001b[43m    \u001b[49m\u001b[43minputs\u001b[49m\u001b[43m,\u001b[49m\n\u001b[1;32m    272\u001b[0m \u001b[43m    \u001b[49m\u001b[43mallow_unreachable\u001b[49m\u001b[38;5;241;43m=\u001b[39;49m\u001b[38;5;28;43;01mTrue\u001b[39;49;00m\u001b[43m,\u001b[49m\n\u001b[1;32m    273\u001b[0m \u001b[43m    \u001b[49m\u001b[43maccumulate_grad\u001b[49m\u001b[38;5;241;43m=\u001b[39;49m\u001b[38;5;28;43;01mTrue\u001b[39;49;00m\u001b[43m,\u001b[49m\n\u001b[1;32m    274\u001b[0m \u001b[43m\u001b[49m\u001b[43m)\u001b[49m\n",
      "\u001b[0;31mKeyboardInterrupt\u001b[0m: "
     ]
    }
   ],
   "source": [
    "model = nn.Sequential(\n",
    "    nn.Linear(3072, 512),\n",
    "    nn.Tanh(),\n",
    "    nn.Linear(512, 2),\n",
    "    nn.LogSoftmax(dim=1)\n",
    ")\n",
    "\n",
    "learning_rate = 1e-2\n",
    "optimizer = optim.SGD(model.parameters(), lr=learning_rate)\n",
    "\n",
    "loss_fn = nn.NLLLoss()\n",
    "n_epochs = 100\n",
    "\n",
    "for epoch in range(n_epochs):\n",
    "    for img, label in cifar2:\n",
    "        out = model(img.view(-1).unsqueeze(0))\n",
    "        loss = loss_fn(out, torch.tensor([label]))\n",
    "        optimizer.zero_grad()\n",
    "        loss.backward()\n",
    "        optimizer.step()\n",
    "    print(\"Epoch: %d, Loss: %f\" % (epoch, float(loss)))"
   ]
  },
  {
   "cell_type": "markdown",
   "metadata": {},
   "source": [
    "### (Mini-)Batch Gradient Descent\n",
    "\n",
    "Jak już było wspomniane, zwykle w kolejnych iteracjach treningu podajemy modelowi \"trochę\" danych - tzw. batch.\n",
    "\n",
    "Do ładowania kolejnych batchy danych w czasie treningu lub walidacji służy w PyTorchu klasa `DataLoader` z `torch.utils.data`.\n",
    "\n",
    "Konstruktor tej klasy przyjmuje jako pierwszy argument `Dataset`. Inne interesujące argumenty to `batch_size` oraz `shuffle`.\n",
    "\n",
    "- https://pytorch.org/docs/stable/data.html\n",
    "\n",
    "Uwaga:  \n",
    "Zwykle w każdej epoce treningu \"przetasowuje się\" zbiór danych. W walidacji kolejność batchy nie ma znaczenia."
   ]
  },
  {
   "cell_type": "markdown",
   "metadata": {},
   "source": [
    "#### Ćwiczenie\n",
    "\n",
    "Stwórz `train_loader` dla zbioru uczącego i `val_loader` dla walidacyjnego, podając `batch_size` równy 64 i pamiętając o przetasowaniu danych (dla zbioru uczącego). "
   ]
  },
  {
   "cell_type": "code",
   "execution_count": 98,
   "metadata": {},
   "outputs": [],
   "source": [
    "from torch.utils.data import DataLoader\n",
    "\n",
    "batch_size = 64\n",
    "\n",
    "# dataloader dla zbioru uczacego z przetasowaniem\n",
    "train_loader = DataLoader(cifar2, batch_size=batch_size, shuffle=True)\n",
    "\n",
    "# dataloader dla zbioru walidacyjnego bez przetasowania\n",
    "val_loader = DataLoader(cifar2_val, batch_size=batch_size, shuffle=False)\n"
   ]
  },
  {
   "cell_type": "markdown",
   "metadata": {},
   "source": [
    "#### Ćwiczenie\n",
    "Zmodyfikuj poprzednią pętlę treningową, aby zrealizować algortym batch gradient descent z wykorzystaniem stworzonego dataloadera."
   ]
  },
  {
   "cell_type": "code",
   "execution_count": 113,
   "metadata": {},
   "outputs": [
    {
     "name": "stdout",
     "output_type": "stream",
     "text": [
      "Epoch: 0, Loss: 0.012140\n",
      "Epoch: 1, Loss: 0.005037\n",
      "Epoch: 2, Loss: 0.003041\n",
      "Epoch: 3, Loss: 0.002137\n"
     ]
    }
   ],
   "source": [
    "model = nn.Sequential(\n",
    "    nn.Linear(3072, 512),\n",
    "    nn.Tanh(),\n",
    "    nn.Linear(512, 2),\n",
    "    nn.LogSoftmax(dim=1)\n",
    ")\n",
    "\n",
    "learning_rate = 1e-2\n",
    "optimizer = optim.SGD(model.parameters(), lr=learning_rate)\n",
    "loss_fn = nn.NLLLoss()\n",
    "#mzmniejszylam bo to za dlugo trwalo\n",
    "n_epochs = 4\n",
    "\n",
    "for epoch in range(n_epochs):\n",
    "    for img, label in train_loader:\n",
    "        outputs = model(imgs.view(imgs.shape[0], -1))\n",
    "        loss = loss_fn(outputs, labels)\n",
    "        optimizer.zero_grad()\n",
    "        loss.backward()\n",
    "        optimizer.step()\n",
    "    print(\"Epoch: %d, Loss: %f\" % (epoch, float(loss)))"
   ]
  },
  {
   "cell_type": "markdown",
   "metadata": {},
   "source": [
    "### Walidacja modelu\n",
    "\n",
    "Na koniec sprawdźmy, jaką dokładność predykcji uzyskamy na zbiorze walidacjnym dla naszej sieci gęstej."
   ]
  },
  {
   "cell_type": "markdown",
   "metadata": {},
   "source": [
    "#### Ćwiczenie\n",
    "\n",
    "1. Uruchom poniższą komórkę, aby sprawdzić dokładność na zbiorze waldiacyjnym.\n",
    "2. Sprawdź, jaki wynik uzyskasz, podmieniając `val_loader` na `train_loader` w pętli for.\n",
    "3. Skomentuj uzyskane wyniki."
   ]
  },
  {
   "cell_type": "code",
   "execution_count": 117,
   "metadata": {},
   "outputs": [
    {
     "name": "stdout",
     "output_type": "stream",
     "text": [
      "Accuracy: %f 0.7306\n"
     ]
    }
   ],
   "source": [
    "correct = 0\n",
    "total = 0\n",
    "\n",
    "with torch.no_grad():\n",
    "    for imgs, labels in val_loader:\n",
    "        batch_size = imgs.shape[0]\n",
    "        outputs = model(imgs.view(batch_size, -1))\n",
    "        _, predicted = torch.max(outputs, dim=1)\n",
    "        total += labels.shape[0]\n",
    "        correct += int((predicted == labels).sum())\n",
    "\n",
    "print(\"Accuracy: %f\", correct / total)"
   ]
  },
  {
   "cell_type": "code",
   "execution_count": 116,
   "metadata": {},
   "outputs": [
    {
     "name": "stdout",
     "output_type": "stream",
     "text": [
      "Accuracy: %f 0.7306\n"
     ]
    }
   ],
   "source": [
    "correct = 0\n",
    "total = 0\n",
    "\n",
    "with torch.no_grad():\n",
    "    for imgs, labels in train_loader:\n",
    "        batch_size = imgs.shape[0]\n",
    "        outputs = model(imgs.view(batch_size, -1))\n",
    "        _, predicted = torch.max(outputs, dim=1)\n",
    "        total += labels.shape[0]\n",
    "        correct += int((predicted == labels).sum())\n",
    "\n",
    "print(\"Accuracy: %f\", correct / total)"
   ]
  },
  {
   "cell_type": "markdown",
   "metadata": {},
   "source": [
    "dokładnosc jest taka sama (moga byc roznice na dalekich miejscach po przecinku byc moze ze wzgledu na przetasowanie)"
   ]
  },
  {
   "cell_type": "markdown",
   "metadata": {},
   "source": [
    "### Podsumowanie\n",
    "\n",
    "- poznaliśmy możliwości PyTorcha w zakresie ładowania danych (`Dataset`, `DataLoader`) oraz obróbki danych obrazkowych (`torchvision.transforms`)\n",
    "- poruszyliśmy takie zagadnienia jak funkcja straty w klasyfikacji (entropia krzyżowa, NLL) czy softmax\n",
    "- wytrenowaliśmy binarny klasyfikator na podzbiorze zbioru `CIFAR-10` (`torchvision.datasets`) z użyciem algorytmu SGD\n",
    "\n",
    "Sieci gęste nie sprawdzają się jednak w praktyce w przetwarzaniu obrazów - wkrótce poznamy tzw. sieci splotowe (ang. convolutional neural networks, CNN), które zrewolucjonizowały dziedzinę głębokiego uczenia maszynowego w 2012 roku."
   ]
  }
 ],
 "metadata": {
  "kernelspec": {
   "display_name": "Python 3 (ipykernel)",
   "language": "python",
   "name": "python3"
  },
  "language_info": {
   "codemirror_mode": {
    "name": "ipython",
    "version": 3
   },
   "file_extension": ".py",
   "mimetype": "text/x-python",
   "name": "python",
   "nbconvert_exporter": "python",
   "pygments_lexer": "ipython3",
   "version": "3.9.12"
  }
 },
 "nbformat": 4,
 "nbformat_minor": 4
}

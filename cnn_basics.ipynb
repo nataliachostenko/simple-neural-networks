{
 "cells": [
  {
   "cell_type": "markdown",
   "metadata": {
    "id": "lv6CqgM_Wsol"
   },
   "source": [
    "## Sztuczne sieci neuronowe - laboratorium 7\n",
    "\n",
    "### Splotowe sieci neuronowe\n",
    "\n",
    "Na poprzednich zajęciach wytrenowaliśmy gęstą sieć neuronową w zagadnieniu klasyfikacji binarnej obrazu - do rozróżniania ptaków i samolotów.\n",
    "\n",
    "Niestety nasza sieć nie poradziła sobie z tym zadaniem najlepiej - doszło do przeuczenia modelu. Jest to związane z faktem, iż sieci gęste nie nadają się do przetwarzania danych obrazkowych, np. położenie piksela na obrazku nie ma dla nich znaczenia.\n",
    "\n",
    "Dziś (i za tydzień) zajmiemy się **splotowymi sieciami neuronowymi** (ang. CNN - convolutional neural networks) w tym samym zagadnieniu."
   ]
  },
  {
   "cell_type": "markdown",
   "metadata": {
    "id": "2ZUyLkZBWson"
   },
   "source": [
    "### Z poprzednich ćwiczeń\n",
    "\n",
    "Uruchom kolejne komórki, wykorzystujące kod z poprzednich zajęć, aby przygotować zbiór danych - `cifar2`."
   ]
  },
  {
   "cell_type": "code",
   "execution_count": 20,
   "metadata": {
    "id": "ElapkyqXWson"
   },
   "outputs": [],
   "source": [
    "from torchvision import datasets, transforms\n",
    "import torch\n",
    "import torch.nn as nn\n",
    "import matplotlib.pyplot as plt"
   ]
  },
  {
   "cell_type": "code",
   "execution_count": 21,
   "metadata": {
    "id": "vPRx_iNCWsoo"
   },
   "outputs": [],
   "source": [
    "class_names = {\n",
    "    0: \"airplane\",\n",
    "    1: \"automobile\",\n",
    "    2: \"bird\",\n",
    "    3: \"cat\",\n",
    "    4: \"deer\",\n",
    "    5: \"dog\",\n",
    "    6: \"frog\",\n",
    "    7: \"horse\",\n",
    "    8: \"ship\",\n",
    "    9: \"truck\"\n",
    "}"
   ]
  },
  {
   "cell_type": "code",
   "execution_count": 22,
   "metadata": {
    "id": "ycul7fgAWsop"
   },
   "outputs": [
    {
     "name": "stdout",
     "output_type": "stream",
     "text": [
      "Files already downloaded and verified\n",
      "Files already downloaded and verified\n"
     ]
    }
   ],
   "source": [
    "    tensor_cifar10 = datasets.CIFAR10(\"data\", train=True, download=True, transform=transforms.ToTensor())\n",
    "tensor_cifar10_val = datasets.CIFAR10(\"data\", train=False, download=True, transform=transforms.ToTensor())"
   ]
  },
  {
   "cell_type": "markdown",
   "metadata": {},
   "source": [
    "zmieniłam na download=true, bo dataset był \"corrupted\" wg błędu"
   ]
  },
  {
   "cell_type": "code",
   "execution_count": 23,
   "metadata": {
    "id": "uqF5G5byWsop"
   },
   "outputs": [],
   "source": [
    "imgs = torch.stack([img_t for img_t, _ in tensor_cifar10], dim=3)\n",
    "per_channel_means = imgs.view(3, -1).mean(dim=1)\n",
    "per_channel_std = imgs.view(3, -1).std(dim=1)"
   ]
  },
  {
   "cell_type": "code",
   "execution_count": 24,
   "metadata": {
    "id": "xn_w35knWsop"
   },
   "outputs": [],
   "source": [
    "transforms_compose = transforms.Compose([\n",
    "    transforms.ToTensor(),\n",
    "    transforms.Normalize(per_channel_means, per_channel_std)\n",
    "])\n",
    "\n",
    "transformed_cifar10 = datasets.CIFAR10(\"data\", train=True, download=False, transform=transforms_compose)\n",
    "transformed_cifar10_val = datasets.CIFAR10(\"data\", train=False, download=False, transform=transforms_compose)"
   ]
  },
  {
   "cell_type": "code",
   "execution_count": 25,
   "metadata": {
    "id": "lPR6M1_2Wsop"
   },
   "outputs": [],
   "source": [
    "label_map = {0: 0, 2: 1}\n",
    "new_class_names  = [class_names[i] for i in label_map]\n",
    "\n",
    "cifar2 = [(img, label_map[label]) for img, label in transformed_cifar10 if label in label_map]\n",
    "cifar2_val = [(img, label_map[label]) for img, label in transformed_cifar10_val if label in label_map]"
   ]
  },
  {
   "cell_type": "markdown",
   "metadata": {
    "id": "BgdmGUASWsoq"
   },
   "source": [
    "### Warstwa splotowa - Conv2d"
   ]
  },
  {
   "cell_type": "markdown",
   "metadata": {
    "id": "kq8WOjVHWsoq"
   },
   "source": [
    "Podstawowym komponentem splotowych sieci neuronowych jest warstwa splotowa. W przetwarzaniu obrazów powszechnie stosuje się warstwę `nn.Conv2d`, która przyjmuje następujące argumenty (w wersji minumum):\n",
    "- `in_channels` - liczba kanałów wejściowych (cech)\n",
    "- `out_channels` - liczba kanałów wyjściowych (równa liczbie filtrów)\n",
    "- `kernel_size` - wymiary pojedynczego filtra - podawany jako para liczb lub pojedyncza liczba (dla filtrów kwadratowych - zazwyczaj takich będziemy używać)\n",
    "\n",
    "Domyślnie warstwa `Conv2d` dodaje do wyjścia z każdego filtra wyraz wolny (jest to także trenowalny parametr).\n",
    "\n",
    "Inne atrybuty warstwy splotowej to m.in.:\n",
    "- `padding` - liczba pikseli \"padowanych\" do poszczególnych wymiarów obrazka przed przejściem przez warstwę splotową\n",
    "- `stride` - krok / przeskok (w pikselach) filtra aplikowanego do wejścia (domyślnie 1 - co każdy piksel)\n",
    "\n",
    "https://pytorch.org/docs/stable/generated/torch.nn.Conv2d.html"
   ]
  },
  {
   "cell_type": "markdown",
   "metadata": {
    "id": "cDxkmKbYWsoq"
   },
   "source": [
    "#### Ćwiczenie\n",
    "\n",
    "Stwórz warstwę `Conv2d`, która obsłuży obrazki RGB używając 16 kwadratowych filtrów rozmiaru 3x3. Przypisz ją do zmiennej `conv`.\n",
    "Ile parametrów ma tak stworzona warstwa? Sprawdź zawartość `conv.weight.shape` i `conv.bias.shape`."
   ]
  },
  {
   "cell_type": "code",
   "execution_count": 26,
   "metadata": {
    "id": "x22jNYedWsor"
   },
   "outputs": [
    {
     "name": "stdout",
     "output_type": "stream",
     "text": [
      "ilosc parametrow: 448\n",
      "conv.weight.shape torch.Size([16, 3, 3, 3])\n",
      "conv.bias.shape torch.Size([16])\n"
     ]
    }
   ],
   "source": [
    "conv = nn.Conv2d(\n",
    "    in_channels=3,      # rgb ma 3 kanały wejscia\n",
    "    out_channels=16,    # podana liczba filtrow\n",
    "    kernel_size=3      # rozmiar filtrow wg polecenia\n",
    ")\n",
    "\n",
    "num_params = sum(p.numel() for p in conv.parameters())\n",
    "print(\"ilosc parametrow:\", num_params)\n",
    "\n",
    "print(\"conv.weight.shape\", conv.weight.shape)\n",
    "print(\"conv.bias.shape\", conv.bias.shape)\n"
   ]
  },
  {
   "cell_type": "markdown",
   "metadata": {
    "id": "WyxhwZKoWsor"
   },
   "source": [
    "#### Ćwiczenie\n",
    "Przepuść wybrany obrazek (wybrany indeks, np. 2) ze zbioru `cifar2` przez stworzoną warstwę `conv`.  \n",
    "Pamiętaj o zastosowaniu funkcji `unsqueeze()` przy puszczaniu przez warstwę pojedynczego obrazka. Sprawdź rozmiar (`.shape`) tensora przed przejściem przez warstwę i na jej wyjściu."
   ]
  },
  {
   "cell_type": "code",
   "execution_count": 29,
   "metadata": {
    "id": "I8DD4PMfWsor"
   },
   "outputs": [],
   "source": [
    "img, _ = cifar2[2]"
   ]
  },
  {
   "cell_type": "code",
   "execution_count": 33,
   "metadata": {},
   "outputs": [
    {
     "name": "stdout",
     "output_type": "stream",
     "text": [
      "kształt przed przejsciem torch.Size([3, 32, 32])\n"
     ]
    }
   ],
   "source": [
    "print(\"kształt przed przejsciem\", img.shape)"
   ]
  },
  {
   "cell_type": "code",
   "execution_count": 37,
   "metadata": {
    "id": "RneIc9BCWsor"
   },
   "outputs": [],
   "source": [
    "output = conv(img.unsqueeze(0))\n"
   ]
  },
  {
   "cell_type": "code",
   "execution_count": 38,
   "metadata": {},
   "outputs": [
    {
     "name": "stdout",
     "output_type": "stream",
     "text": [
      "ksztalt po przejsciu torch.Size([1, 16, 30, 30])\n"
     ]
    }
   ],
   "source": [
    "print(\"ksztalt po przejsciu\", output.shape)\n"
   ]
  },
  {
   "cell_type": "code",
   "execution_count": 35,
   "metadata": {
    "id": "TFKjkL5JWsor"
   },
   "outputs": [
    {
     "name": "stderr",
     "output_type": "stream",
     "text": [
      "Clipping input data to the valid range for imshow with RGB data ([0..1] for floats or [0..255] for integers).\n"
     ]
    },
    {
     "data": {
      "image/png": "[encoded data removed]",
      "text/plain": [
       "<Figure size 640x480 with 1 Axes>"
      ]
     },
     "metadata": {},
     "output_type": "display_data"
    }
   ],
   "source": [
    "plt.imshow(img.permute(1, 2, 0))\n",
    "plt.show()"
   ]
  },
  {
   "cell_type": "markdown",
   "metadata": {
    "id": "ScWnyf64Wsos"
   },
   "source": [
    "#### Ćwiczenie\n",
    "Stwórz warstwę `conv` jeszcze raz, tym razem podając `padding=1`, i znów przepuść przez nią obrazek. Jak zmieni się rozmiar wyjścia?"
   ]
  },
  {
   "cell_type": "code",
   "execution_count": 42,
   "metadata": {
    "id": "4rz3MBd8Wsos"
   },
   "outputs": [
    {
     "name": "stdout",
     "output_type": "stream",
     "text": [
      "ilosc parametrow: 448\n",
      "conv.weight.shape torch.Size([16, 3, 3, 3])\n",
      "conv.bias.shape torch.Size([16])\n"
     ]
    }
   ],
   "source": [
    "conv = nn.Conv2d(\n",
    "    in_channels=3,      # rgb ma 3 kanały wejscia\n",
    "    out_channels=16,    # podana liczba filtrow\n",
    "    kernel_size=3,      # rozmiar filtrow wg polecenia\n",
    "    padding = 1         # padding zgodnie z poleceniem\n",
    ")\n",
    "\n",
    "num_params = sum(p.numel() for p in conv.parameters())\n",
    "print(\"ilosc parametrow:\", num_params)\n",
    "\n",
    "print(\"conv.weight.shape\", conv.weight.shape)\n",
    "print(\"conv.bias.shape\", conv.bias.shape)"
   ]
  },
  {
   "cell_type": "code",
   "execution_count": 43,
   "metadata": {},
   "outputs": [
    {
     "name": "stderr",
     "output_type": "stream",
     "text": [
      "Clipping input data to the valid range for imshow with RGB data ([0..1] for floats or [0..255] for integers).\n"
     ]
    },
    {
     "name": "stdout",
     "output_type": "stream",
     "text": [
      "kształt przed przejsciem torch.Size([3, 32, 32])\n",
      "ksztalt po przejsciu torch.Size([1, 16, 32, 32])\n"
     ]
    },
    {
     "data": {
      "image/png": "[encoded data removed]",
      "text/plain": [
       "<Figure size 640x480 with 1 Axes>"
      ]
     },
     "metadata": {},
     "output_type": "display_data"
    }
   ],
   "source": [
    "img, _ = cifar2[2]\n",
    "print(\"kształt przed przejsciem\", img.shape)\n",
    "output = conv(img.unsqueeze(0))\n",
    "print(\"ksztalt po przejsciu\", output.shape)\n",
    "plt.imshow(img.permute(1, 2, 0))\n",
    "plt.show()\n"
   ]
  },
  {
   "cell_type": "markdown",
   "metadata": {},
   "source": [
    "rozmiar się zwiększa, zamiast 1,16, 30, 30 jest 1,16, 32, 32"
   ]
  },
  {
   "cell_type": "markdown",
   "metadata": {
    "id": "28YFsI0kWsos"
   },
   "source": [
    "### Filtry pozwalają wykrywać cechy obrazów"
   ]
  },
  {
   "cell_type": "markdown",
   "metadata": {
    "id": "Ej9YrUuvWsos"
   },
   "source": [
    "Wartości filtrów (i wyrazy wolne) w danej warstwie splotowej znajdowane są podczas uczenia sieci neuronowej - są to parametry modelu.\n",
    "\n",
    "Po wyuczeniu, poszczególne filtry umieją \"zwracać uwagę\" np. na określone kształty, krawędzie, kolory itd (aktywować się, tj. zwracać wysokie wartości na wyjściu - przy takich wejściach).\n",
    "\n",
    "Na razie spróbujmy sami wymusić wartości parametrów warstwy `conv`, uzyskując w kolejnych ćwiczeniach:\n",
    "- warstwę złożoną z jednakowych filtrów 3x3 przetwarzających każdy piksel w średnią jego sąsiadów\n",
    "- warstwę złożoną z jednakowych filtrów 3x3, w których kolejne kolumny zawierają po 3 wartości -1, 0 i 1\n",
    "\n",
    "Sprawdzimy, jak będzie wyglądał wejściowy obrazek po przepuszczeniu przez tak \"z palca\" stworzone warstwy."
   ]
  },
  {
   "cell_type": "markdown",
   "metadata": {
    "id": "TR3-QuFkWsos"
   },
   "source": [
    "#### Ćwiczenie\n",
    "\n",
    "Uzupełnij brakującą wartość w nawiasie, aby stworzyć filtry uśredniające sąsiednie piksele. Jaką należy wpisać wartość?\n",
    "\n",
    "hint: Filtry mają rozmiar 3x3."
   ]
  },
  {
   "cell_type": "code",
   "execution_count": 44,
   "metadata": {
    "id": "-r24K4qHWsos"
   },
   "outputs": [],
   "source": [
    "with torch.no_grad():\n",
    "    conv.weight.fill_(1/9)\n",
    "    conv.bias.zero_()\n"
   ]
  },
  {
   "cell_type": "markdown",
   "metadata": {},
   "source": [
    "1/9 dlatego ze każda komórka w filtrze 3x3 bierze srednia z 9 pikseli"
   ]
  },
  {
   "cell_type": "markdown",
   "metadata": {
    "id": "XeNfQR3SWsos"
   },
   "source": [
    "#### Ćwiczenie\n",
    "Co stanie się z obrazkiem po przepuszczeniu przez taką warstwę? Dlaczego? Uruchom poniższą komórkę, aby się przekonać"
   ]
  },
  {
   "cell_type": "code",
   "execution_count": 45,
   "metadata": {
    "id": "vALdsW1ZWsos"
   },
   "outputs": [
    {
     "name": "stderr",
     "output_type": "stream",
     "text": [
      "Clipping input data to the valid range for imshow with RGB data ([0..1] for floats or [0..255] for integers).\n"
     ]
    },
    {
     "data": {
      "text/plain": [
       "<matplotlib.image.AxesImage at 0x13a6411c0>"
      ]
     },
     "execution_count": 45,
     "metadata": {},
     "output_type": "execute_result"
    },
    {
     "data": {
      "image/png": "[encoded data removed]",
      "text/plain": [
       "<Figure size 640x480 with 1 Axes>"
      ]
     },
     "metadata": {},
     "output_type": "display_data"
    }
   ],
   "source": [
    "plt.imshow(img.permute(1, 2, 0))"
   ]
  },
  {
   "cell_type": "code",
   "execution_count": 46,
   "metadata": {
    "id": "gno4lV-5Wsos"
   },
   "outputs": [
    {
     "data": {
      "image/png": "[encoded data removed]",
      "text/plain": [
       "<Figure size 640x480 with 1 Axes>"
      ]
     },
     "metadata": {},
     "output_type": "display_data"
    }
   ],
   "source": [
    "output = conv(img.unsqueeze(0))\n",
    "plt.imshow(output[0, 0].detach(), cmap='gray')\n",
    "plt.show()"
   ]
  },
  {
   "cell_type": "markdown",
   "metadata": {},
   "source": [
    "obraz staje się bardziej rozmyty wlasnie ze wzgledu na branie tej sredniej"
   ]
  },
  {
   "cell_type": "markdown",
   "metadata": {
    "id": "cvNZqPGuWsos"
   },
   "source": [
    "#### Ćwiczenie\n",
    "\n",
    "Niech teraz warstwa składa się z filtrów 3x3 z kolumnami kolejno o wartościach -1, 0, 1. Na jakie wejścia będą reagowały takie filtry? Dlaczego? Uruchom poniższą komórkę, aby się przekonać. Co by się stało w przypadku -1, 0, 1 w wierszach zamiast w kolumnach?"
   ]
  },
  {
   "cell_type": "code",
   "execution_count": 48,
   "metadata": {
    "id": "jUcFiCG2Wsos"
   },
   "outputs": [
    {
     "name": "stderr",
     "output_type": "stream",
     "text": [
      "Clipping input data to the valid range for imshow with RGB data ([0..1] for floats or [0..255] for integers).\n"
     ]
    },
    {
     "data": {
      "text/plain": [
       "<matplotlib.image.AxesImage at 0x13ce3d6d0>"
      ]
     },
     "execution_count": 48,
     "metadata": {},
     "output_type": "execute_result"
    },
    {
     "data": {
      "image/png": "[encoded data removed]",
      "text/plain": [
       "<Figure size 640x480 with 1 Axes>"
      ]
     },
     "metadata": {},
     "output_type": "display_data"
    }
   ],
   "source": [
    "plt.imshow(img.permute(1, 2, 0))"
   ]
  },
  {
   "cell_type": "code",
   "execution_count": 49,
   "metadata": {
    "id": "Jd0iU505Wsot"
   },
   "outputs": [
    {
     "data": {
      "image/png": "[encoded data removed]",
      "text/plain": [
       "<Figure size 640x480 with 1 Axes>"
      ]
     },
     "metadata": {},
     "output_type": "display_data"
    }
   ],
   "source": [
    "conv = nn.Conv2d(3, 1, kernel_size=3, padding=1)\n",
    "with torch.no_grad():\n",
    "    conv.weight[:] = torch.tensor([[-1.0, 0.0, 1.0],\n",
    "                                   [-1.0, 0.0, 1.0],\n",
    "                                   [-1.0, 0.0, 1.0]])\n",
    "    conv.bias.zero_()\n",
    "\n",
    "output = conv(cifar2[2][0].unsqueeze(0))\n",
    "plt.imshow(output[0, 0].detach(), cmap='gray')\n",
    "plt.show()"
   ]
  },
  {
   "cell_type": "markdown",
   "metadata": {},
   "source": [
    "Filtry z wartosciami -1, 0, 1 sluza do wykrywania pionowych krawędzi, sa wrazliwe na pionowe przejscia w jasnosci tj\n",
    "kolumna z -1 zmniejsza wartosc piksela jesli w danym miejscu jest jasny piksel, kolumna 0 nie wpływa na wartość piksela, kolumna 1 zwiększa wartosc piksela (jesli piksel jest jasny). filtr reaguje silnie na obszary gdzie wystepuje gwaltowna zmiana jasnosci od ciemnego do jasnego w kierunku poziomym, wiec dobrze wykrywa pionowe linie i krawędzie"
   ]
  },
  {
   "cell_type": "markdown",
   "metadata": {
    "id": "ZErLk8KgWsot"
   },
   "source": [
    "### Pooling - redukcja rozmiarów\n",
    "\n",
    "Nie wszystkie \"cechy\" oryginalnego obrazka można wyłapać małymi filtrami (np. różna skala obrazków). Dlatego stosuje się sekwencje kolejnych filtrów oraz \"downsampling\", czyli stopniowe zmniejszanie wymiarów reprezentacji wejściowych danych. W ten sposób filtry aplikoawne do pomniejszonej reprezentacji \"patrzą\" na większe fragmenty oryginalnego obrazka (ang. receptive field).\n",
    "\n",
    "Najpopularniejszym wariantem downsamplingu jest tzw. \"max pooling\", realizowany w PyTorch przez `torch.nn.MaxPool2d`.\n",
    "\n",
    "Max pooling \"pozostawia\" największą wartość należącą do danego \"okna\", np. w przypadku poolingu 2x2 (popularny wariant) \"kompresujemy\" cztery piksele do jednego o wartości największej spośród tych czterech, pomniejszając wejściowy tensor dwukrotnie.\n",
    "\n",
    "Max pooling działa bazując na założeniu, że skoro warstwa splotowa aktywuje się dla pewnych cech, to ta aktywacja (a więc i dana cecha) \"przetrwa\" przejście przez tak zdefiniowany downsampling (największa wartość zostanie zachowana).\n",
    "\n",
    "Warstwy typu pooling nie mają trenowalnych parametrów.\n",
    "\n",
    "https://pytorch.org/docs/stable/generated/torch.nn.MaxPool2d.html"
   ]
  },
  {
   "cell_type": "code",
   "execution_count": 50,
   "metadata": {
    "id": "fg38hCSjWsot"
   },
   "outputs": [],
   "source": [
    "pool = nn.MaxPool2d(2)\n",
    "output = pool(img.unsqueeze(0))"
   ]
  },
  {
   "cell_type": "code",
   "execution_count": 51,
   "metadata": {
    "id": "Du_FtidEWsot"
   },
   "outputs": [
    {
     "data": {
      "image/png": "[encoded data removed]",
      "text/plain": [
       "<Figure size 640x480 with 1 Axes>"
      ]
     },
     "metadata": {},
     "output_type": "display_data"
    }
   ],
   "source": [
    "plt.imshow(output[0, 0].detach(), cmap='gray')\n",
    "plt.show()"
   ]
  },
  {
   "cell_type": "markdown",
   "metadata": {
    "id": "wkLMJFWcWsot"
   },
   "source": [
    "### Sieć splotowa\n",
    "\n",
    "W podstawowym wariancie sieć splotowa składa się z sekwencji warstw splotowych (wraz z funkcjami aktywacji) oraz warstw typu pooling. Na samym końcu, gdy reprezentacja \"2D\" jest już odpowiednio mała, typowo \"wypłaszcza\" się ją i dokłada się warstwy gęste np. na potrzeby zadania klasyfikacji.\n",
    "\n",
    "Filtry początkowych warstw splotowych operują na lokalnych sąsiedztwach pikseli, ale już kolejne warstwy splotowe - dzięki zastosowaniu downsamplingu (poolingu) \"patrzą\" na większe grupy pikseli (ang. receptive field).\n",
    "\n",
    "Na poprzednich zajęciach definiowaliśmy sieć neuronową używając tzw. sekwencyjnego API (z użyciem `nn.Sequential`). Jest ono użyteczne przy prostych modelach, ale dość mocno ograniczone (m.in. patrz: rozdział 8.2.4 w książce).\n",
    "\n",
    "Innym sposobem definiowania sieci neuronowej jest implementacja jej jako klasy dziedziczącej po `torch.nn.Module` (wspomniane na lab. 4 i w rozdziale 6.).\n",
    "\n",
    "Dziedziczenie po `nn.Module` w wariancie minimum wymaga zdefiniowania metody `forward()`, która określa sekwencję warstw aplikowanych do danych wejściowych przy kroku \"w przód\" (krok `backward()` będzie za nas wykonywał `autograd`).\n",
    "\n",
    "Sieć zdefiniowana w ten sposób może mieć także \"podmoduły\", definiowane jako atrybuty klasy w konstruktorze. Podmoduły te, reprezentujące poszczególne warstwy (lub grupy warstw) - także dziedziczące po`nn.Module` - będą przechowywały wartości swoich parametrów (patrz: rozdział 8.3.2)."
   ]
  },
  {
   "cell_type": "markdown",
   "metadata": {
    "id": "8ci8XsrqWsot"
   },
   "source": [
    "#### Ćwiczenie\n",
    "Zdefiniuj sieć splotową tworząc klasę `Net`. Niech posiada warstwy (podane jako atrybuty klasy `Net` w konstruktorze):\n",
    "- `conv1` - 3 kanały wejściowe, 16 filtrów 3x3, padding=1\n",
    "- `conv2` - 16 kanałów wejściowych, 8 filtrów 3x3, padding=1\n",
    "- po obu tych warstwach: funkcje aktywacji tangens hiperboliczny (`act1` i `act2`)\n",
    "- po funkcjach aktywacji: warstwy typu max pooling 2x2 (`pool1`, `pool2`)\n",
    "- na końcu \"sieć gęstą\" złożoną z dwóch warstw `nn.Linear` (`fc1`, `fc2`) rozdzielonych  funkcją aktywacji (`act3`)\n",
    "\n",
    "Zastąp wszystkie wystąpienia `None` kodem.\n",
    "\n",
    "\n",
    "Zastanów się, jaki musi być rozmiar wejścia do \"sieci gęstej\" i rozmiar wyjścia z niej. Przyjmij \"pośredni\" rozmiar w sieci gęstej (wyjście z pierwszej warstwy `Linear` i wejście do drugiej) równy 32.\n",
    "\n",
    "Następnie zdefiniuj, jak dane wejściowe (argument `x`) mają być przetwarzane przez sieć w kroku \"w przód\", tj. uzupełnij implementację metody `self.forward()`."
   ]
  },
  {
   "cell_type": "code",
   "execution_count": 72,
   "metadata": {},
   "outputs": [],
   "source": [
    "class Net(nn.Module):\n",
    "    def __init__(self):\n",
    "        super().__init__()\n",
    "        # definicje warstw zgodnie z poleceniem\n",
    "        self.conv1 = nn.Conv2d(in_channels=3, out_channels=16, kernel_size=3, padding=1)\n",
    "        # funkcja aktywacji\n",
    "        self.act1 = nn.Tanh()\n",
    "        #pooling zgodnie z poleceniem\n",
    "        self.pool1 = nn.MaxPool2d(kernel_size=2)\n",
    "\n",
    "        self.conv2 = nn.Conv2d(in_channels=16, out_channels=8, kernel_size=3, padding=1)\n",
    "        self.act2 = nn.Tanh()\n",
    "        self.pool2 = nn.MaxPool2d(kernel_size=2)\n",
    "\n",
    "        # warstwy geste\n",
    "        # Rozmiar wejściowy do fc1 musi być obliczony, obraz ma wymiary 32x32, po 2 poolingach rozmiar zmniejszy sie \n",
    "        #o polowe wiec 8x8, kanalow na wyjsciu z conv2 jest tez 8 wiec liczba cech to 8*8*8\n",
    "        self.fc1 = nn.Linear(8*8*8, 32)\n",
    "        self.act3 = nn.Tanh()\n",
    "        \n",
    "        self.fc2 = nn.Linear(32, 2)  \n",
    "\n",
    "    def forward(self, x):\n",
    "        # proces przetwarzania kroku w przod\n",
    "        out = self.pool1(self.act1(self.conv1(x)))\n",
    "        out = self.pool2(self.act2(self.conv2(out)))\n",
    "\n",
    "        # wyplaszczenie przed przekazaniem do warstwy gestej\n",
    "        out = out.view(-1, 8*8*8)  \n",
    "\n",
    "        # przekazanie przez warstwy geste\n",
    "        out = self.act3(self.fc1(out))\n",
    "        out = self.fc2(out)\n",
    "\n",
    "        return out\n"
   ]
  },
  {
   "cell_type": "markdown",
   "metadata": {
    "id": "GnXYxOIWWsou"
   },
   "source": [
    "#### Ćwiczenie\n",
    "Zainicjalizuj model używając zdefiniowanej właśnie klasy `Net`. Przepuść przez model obrazek.\n",
    "\n",
    "Wywołanie `model(dane)` jest równe wywołaniu `model.forward(dane)`."
   ]
  },
  {
   "cell_type": "code",
   "execution_count": 74,
   "metadata": {
    "id": "zVn7roZqWsou"
   },
   "outputs": [
    {
     "data": {
      "text/plain": [
       "tensor([[-0.1291,  0.2353]], grad_fn=<AddmmBackward0>)"
      ]
     },
     "execution_count": 74,
     "metadata": {},
     "output_type": "execute_result"
    }
   ],
   "source": [
    "model = Net()\n",
    "model(img.unsqueeze(0))"
   ]
  },
  {
   "cell_type": "markdown",
   "metadata": {
    "id": "eYQdEUcbWsou"
   },
   "source": [
    "#### Ćwiczenie (opcjonalne)\n",
    "Funkcje aktywacji i warstwy typu pooling nie mają trenowalnych parametrów. W związku z tym nie ma potrzeby rejestrowania ich jako podmodułów klasy `Net`. Zamiast tego, móżemy wykorzystać ich odpowiedniki z tzw. funkcjonalnego API, zrealizowanego jako funkcje w module `torch.nn.functional` i użyć ich wewnątrz metody `forward()`."
   ]
  },
  {
   "cell_type": "code",
   "execution_count": 75,
   "metadata": {
    "id": "OKiECeXCWsou"
   },
   "outputs": [
    {
     "name": "stdout",
     "output_type": "stream",
     "text": [
      "tensor([[-0.0355,  0.1008]], grad_fn=<AddmmBackward0>)\n"
     ]
    }
   ],
   "source": [
    "import torch.nn.functional as F\n",
    "\n",
    "class Net(nn.Module):\n",
    "    def __init__(self):\n",
    "        super().__init__()\n",
    "        self.conv1 = nn.Conv2d(in_channels=3, out_channels=16, kernel_size=3, padding=1)\n",
    "        self.conv2 = nn.Conv2d(in_channels=16, out_channels=8, kernel_size=3, padding=1)\n",
    "        self.fc1 = nn.Linear(8*8*8, 32)  \n",
    "        self.fc2 = nn.Linear(32, 2)  \n",
    "\n",
    "    def forward(self, x):\n",
    "        # uzycie api, tam tez dajemy funkcje aktywacji\n",
    "        out = F.max_pool2d(F.tanh(self.conv1(x)), 2)\n",
    "        out = F.max_pool2d(F.tanh(self.conv2(out)), 2)\n",
    "        out = out.view(-1, 8*8*8)\n",
    "        out = self.fc1(out)\n",
    "        out = F.tanh(out)\n",
    "        out = self.fc2(out)\n",
    "        return out\n",
    "\n",
    "model = Net()\n",
    "output = model(img.unsqueeze(0)) \n",
    "print(output)  \n"
   ]
  },
  {
   "cell_type": "markdown",
   "metadata": {
    "id": "49OPp7v9Wsou"
   },
   "source": [
    "### Podsumowanie\n",
    "\n",
    "Na dzisiejszym laboratorium:\n",
    "- poznaliśmy działanie warstwy splotowej: `Conv2d`\n",
    "- poznaliśmy działanie warstwy pooling na przykładzie `MaxPool2d`\n",
    "- zdefiniowaliśmy splotową sieć neuronową poprzez dziedziczenie po klasie `nn.Module`.\n",
    "\n",
    "Na kolejnych zajęciach wytrenujemy sieć splotową bazując na zdefiniowanym powyżej modelu, a także rozszerzając go o dodatkowe komponenty stosowane w praktyce w celu zapewnienia regularyzacji modelu i stabilności treningu."
   ]
  }
 ],
 "metadata": {
  "colab": {
   "provenance": []
  },
  "kernelspec": {
   "display_name": "Python 3 (ipykernel)",
   "language": "python",
   "name": "python3"
  },
  "language_info": {
   "codemirror_mode": {
    "name": "ipython",
    "version": 3
   },
   "file_extension": ".py",
   "mimetype": "text/x-python",
   "name": "python",
   "nbconvert_exporter": "python",
   "pygments_lexer": "ipython3",
   "version": "3.9.12"
  }
 },
 "nbformat": 4,
 "nbformat_minor": 4
}

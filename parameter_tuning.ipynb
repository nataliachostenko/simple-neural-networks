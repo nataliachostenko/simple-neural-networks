{
 "cells": [
  {
   "cell_type": "markdown",
   "metadata": {
    "id": "HnCfEpT6c3DF"
   },
   "source": [
    "## Sztuczne sieci neuronowe - laboratorium 2\n",
    "\n",
    "### Poszukiwanie parametrów modelu"
   ]
  },
  {
   "cell_type": "markdown",
   "metadata": {},
   "source": [
    "#### Dane studenta: Natalia Chostenko, 118764"
   ]
  },
  {
   "cell_type": "code",
   "execution_count": 1,
   "metadata": {
    "id": "A-K_xSAtc3DI"
   },
   "outputs": [],
   "source": [
    "import torch"
   ]
  },
  {
   "cell_type": "markdown",
   "metadata": {
    "id": "AUPr_xt8c3DJ"
   },
   "source": [
    "Załóżmy, że mamy dwa termometry:\n",
    "- jeden mierzy temperaturę w stopniach Celsjusza\n",
    "- drugi mierzy temperaturę w nieznanej nam skali, ale jest bardzo ładny i chcemy go powiesić na ścianie\n",
    "\n",
    "Zanim to zrobimy, chcemy się dowiedzieć, jak przeliczać wskazania drugiego termometru na stopnie Celsjusza.\n",
    "Spróbujemy znaleźć \"wzór\" tego przekształcenia na podstawie pomiarów dokonanych obydwoma termometrami."
   ]
  },
  {
   "cell_type": "code",
   "execution_count": 2,
   "metadata": {
    "id": "dnVtxoQUc3DK"
   },
   "outputs": [],
   "source": [
    "data_celsius = [0.5,  14.0, 15.0, 28.0, 11.0,  8.0,  3.0, -4.0,  6.0, 13.0, 21.0]\n",
    "data_unknown = [35.7, 55.9, 58.2, 81.9, 56.3, 48.9, 33.9, 21.8, 48.4, 60.4, 68.4]"
   ]
  },
  {
   "cell_type": "markdown",
   "metadata": {
    "id": "che4EX6gc3DK"
   },
   "source": [
    "#### Ćwiczenie\n",
    "Zwizualizuj dane pomiarowe jako punkty na płaszczyźnie (użyj `plt.scatter()`), na osi poziomej umieszczając temperaturę w nieznanej skali, a na osi pionowej - temperaturę w stopniach Celsjusza."
   ]
  },
  {
   "cell_type": "code",
   "execution_count": 3,
   "metadata": {
    "id": "cSfbf8okc3DK"
   },
   "outputs": [
    {
     "data": {
      "image/png": "[encoded data removed]",
      "text/plain": [
       "<Figure size 1000x600 with 1 Axes>"
      ]
     },
     "metadata": {},
     "output_type": "display_data"
    }
   ],
   "source": [
    "import matplotlib.pyplot as plt\n",
    "plt.figure(figsize=(10, 6))\n",
    "plt.scatter(data_unknown, data_celsius)\n",
    "plt.title('Temperatury')\n",
    "plt.xlabel('Temperatura w nieznanej skali')\n",
    "plt.ylabel('Temperatura w stopniach celsjusza')\n",
    "plt.grid(True)\n",
    "plt.show()\n"
   ]
  },
  {
   "cell_type": "markdown",
   "metadata": {
    "id": "DNSFKDTnc3DL"
   },
   "source": [
    "#### Ćwiczenie\n",
    "Stwórz tensory `t_c` (temp. w stopniach Celsjusza) i `t_u` (temp. w skali \"unknown\") na podstawie danych."
   ]
  },
  {
   "cell_type": "code",
   "execution_count": 27,
   "metadata": {
    "id": "wtlz5FrEc3DL"
   },
   "outputs": [
    {
     "name": "stdout",
     "output_type": "stream",
     "text": [
      "Temperatura t_c  tensor([ 0.5000, 14.0000, 15.0000, 28.0000, 11.0000,  8.0000,  3.0000, -4.0000,\n",
      "         6.0000, 13.0000, 21.0000])\n",
      "Temperatura t_u  tensor([35.7000, 55.9000, 58.2000, 81.9000, 56.3000, 48.9000, 33.9000, 21.8000,\n",
      "        48.4000, 60.4000, 68.4000])\n"
     ]
    }
   ],
   "source": [
    "# konwersja list do tensorów \n",
    "t_c = torch.tensor(data_celsius)\n",
    "t_u = torch.tensor(data_unknown)\n",
    "\n",
    "print(\"Temperatura t_c \", t_c)\n",
    "print(\"Temperatura t_u \", t_u)\n"
   ]
  },
  {
   "cell_type": "markdown",
   "metadata": {
    "id": "fzb-ro84c3DL"
   },
   "source": [
    "#### Ćwiczenie\n",
    "Zaproponuj na podstawie powyższej wizualizacji danych, jakiego modelu (możliwie prostego) użyć w tym zagadnieniu.\n",
    "Podaj \"wzór\" modelu i zdefiniuj funkcję `model(t_u, ...)` przekształcającą tensor wejściowy `t_u` w predykcję (niech funkcja zwróci tensor). Jakie będą parametry tego modelu?"
   ]
  },
  {
   "cell_type": "markdown",
   "metadata": {
    "id": "Kim33aR-c3DM"
   },
   "source": [
    "Na podstawie wizualizacji danych widac że relacja między temperatura w nieznanej skali  a \n",
    "temperatura w stopniach celsjusza jest liniowa wiec najprostszym modelem bedzie model liniowy. \n",
    "Wzór na model liniowy:\n",
    "t_c = a * t_u + b\n",
    "\n",
    "funkcja model:\n",
    "def model(t_u, a, b):\n",
    "    return a * t_u + b\n",
    "    \n",
    "Parametry modelu a i b: a - waga a b - intercept czyli przesuniecie, trzeba je obliczyc"
   ]
  },
  {
   "cell_type": "code",
   "execution_count": 38,
   "metadata": {},
   "outputs": [
    {
     "name": "stdout",
     "output_type": "stream",
     "text": [
      "tensor([35.7000, 55.9000, 58.2000, 81.9000, 56.3000, 48.9000, 33.9000, 21.8000,\n",
      "        48.4000, 60.4000, 68.4000])\n"
     ]
    }
   ],
   "source": [
    "def model(t_u, a, b):\n",
    "    return a * t_u + b\n",
    "t_p = model(t_u, 1,0) #poczatkowe wartosci parametrow\n",
    "print(t_p)"
   ]
  },
  {
   "cell_type": "markdown",
   "metadata": {
    "id": "uvWs1JZZc3DM"
   },
   "source": [
    "#### Ćwiczenie\n",
    "Wybierz funkcję straty typową dla zadania regresji i zaimplementuj ją jako funkcję `loss_fn()`. Niech przyjmuje dwa argumenty - tensor predykcji `t_p` oraz tensor prawdziwych wartości `t_c`. Niech funkcja zwraca wartość funkcji straty (skalar / liczbę)."
   ]
  },
  {
   "cell_type": "code",
   "execution_count": 39,
   "metadata": {
    "id": "gr3uBLCsc3DM"
   },
   "outputs": [
    {
     "name": "stdout",
     "output_type": "stream",
     "text": [
      "Wartość funkcji straty  tensor(1763.8848)\n"
     ]
    }
   ],
   "source": [
    "# definicja MSE\n",
    "def loss_fn(t_p, t_c):\n",
    "    error_squares = (t_p - t_c)**2\n",
    "    return error_squares.mean()\n",
    "\n",
    "# obliczenie MSE\n",
    "loss = loss_fn(t_p, t_c)\n",
    "\n",
    "print(\"Wartość funkcji straty \", loss)\n"
   ]
  },
  {
   "cell_type": "markdown",
   "metadata": {
    "id": "hF7mvxVec3DM"
   },
   "source": [
    "#### Ćwiczenie\n",
    "Zainicjalizuj parametry modelu jako tensory \"zero-wymiarowe\" (skalary) `w` i `b` o wartościach odpowiednio 1 i 0.\n",
    "Wykorzystaj w tym celu `torch.zeros()` i `torch.ones()` podając jako argument: `()`\n",
    "\n",
    "Oblicz tensor predykcji modelu dla zadanych parametrów oraz wartość funkcji straty używając zaimplementowanych wyżej funkcji."
   ]
  },
  {
   "cell_type": "code",
   "execution_count": 65,
   "metadata": {
    "id": "M8xnDWeZc3DM"
   },
   "outputs": [
    {
     "name": "stdout",
     "output_type": "stream",
     "text": [
      "Tensor predykcji to tensor([35.7000, 55.9000, 58.2000, 81.9000, 56.3000, 48.9000, 33.9000, 21.8000,\n",
      "        48.4000, 60.4000, 68.4000])\n"
     ]
    }
   ],
   "source": [
    "w = torch.ones(())\n",
    "b = torch.zeros(())\n",
    "\n",
    "#  definicja modelu (zamieniam a z poprzedniego zadania na w zgodne z poleceniem)\n",
    "def model(t_u, w, b):\n",
    "    return w * t_u + b\n",
    "\n",
    "# obliczenie tensora predykcji \n",
    "t_p = model(t_u, w, b)\n",
    "\n",
    "print(\"Tensor predykcji to\", t_p)"
   ]
  },
  {
   "cell_type": "markdown",
   "metadata": {
    "id": "By108SZ7c3DN"
   },
   "source": [
    "### Badanie wpływu parametrów na wartość funkcji straty\n",
    "\n",
    "Powyżej obliczyliśmy wartość funkcji straty przy określonym zestawie parametrów modelu. Sprawdźmy teraz, co się stanie, gdy każdy z tych parametrów (niezależnie od siebie) zwiększymy lub zmniejszymy o pewną wartość `delta`. Pozwoli to oszacować współczynniki zmiany wartości funkcji straty przy zmianie wartości parametru (dla każdego z parametrów z osobna).\n",
    "\n",
    "Na podstawie tych współczynników, będziemy próbowali następnie zmienić wartości parametrów w taki sposób (zmniejszyć lub zwiększyć), aby  \"podążać w kierunku\" malejącej funkcji straty. Jeśli współczynnik dla danego parametru wyjdzie ujemny, to znaczy, że zwiększenie tego parametru zmniejsza funkcję straty, a zatem ten parametr należy jeszcze zwiększyć. Analogicznie, gdy współczynnik jest dodatni, zmniejszamy wartość tego parametru.\n",
    "\n",
    "Należy jednak uważać, aby pojedyncza zmiana parametru nie była ani zbyt mała, ani zbyt duża. Wielkość \"kroku\" kontroluje się typowo stosując tzw. stałą uczącą (ang. `learning_rate`). Stała ucząca jest jednym z najważniejszych hiperparametrów modeli (np. sieci neuronowych)."
   ]
  },
  {
   "cell_type": "markdown",
   "metadata": {
    "id": "HBX2teUwc3DN"
   },
   "source": [
    "#### Ćwiczenie\n",
    "\n",
    "Uzupełnij poniższy kod i oblicz współczynniki zmiany wartości funkcji straty ze względu na poszczególne parametry modelu. Przyjmuj `delta` = 0.1"
   ]
  },
  {
   "cell_type": "code",
   "execution_count": 67,
   "metadata": {
    "id": "Xf1y7I1Jc3DN"
   },
   "outputs": [
    {
     "name": "stdout",
     "output_type": "stream",
     "text": [
      "4517.29736328125\n",
      "82.5994873046875\n"
     ]
    }
   ],
   "source": [
    "delta = 0.1\n",
    "\n",
    "# ZASTĄP WYSTĄPIENIA SŁOWA \"None\" WŁASNYM KODEM\n",
    "\n",
    "loss_w_plus_delta = loss_fn(model(t_u, w + delta, b), t_c)\n",
    "loss_w_minus_delta = loss_fn(model(t_u, w - delta, b), t_c)\n",
    "\n",
    "loss_b_plus_delta = loss_fn(model(t_u, w, b + delta), t_c)\n",
    "loss_b_minus_delta = loss_fn(model(t_u, w, b - delta), t_c)\n",
    "\n",
    "loss_rate_of_change_w = (loss_w_plus_delta - loss_w_minus_delta) / (2*delta)\n",
    "\n",
    "loss_rate_of_change_b = (loss_b_plus_delta - loss_b_minus_delta) / (2*delta)\n",
    "\n",
    "print(loss_rate_of_change_w.item())\n",
    "print(loss_rate_of_change_b.item())\n",
    "\n"
   ]
  },
  {
   "cell_type": "markdown",
   "metadata": {
    "id": "rsFcdoWGc3DN"
   },
   "source": [
    "#### Ćwiczenie\n",
    "Zaktualizuj (nadpisz) wartości parametrów odejmując od poprzedniej wartości współczynnik zmiany funkcji straty przemnożony przez tzw. `learning_rate` - stałą uczącą. Niech `learning_rate` wynosi 0.01."
   ]
  },
  {
   "cell_type": "code",
   "execution_count": 31,
   "metadata": {
    "id": "GFh_rWRhc3DN"
   },
   "outputs": [
    {
     "name": "stdout",
     "output_type": "stream",
     "text": [
      "tensor(-44.1730)\n",
      "tensor(-0.8260)\n"
     ]
    }
   ],
   "source": [
    "learning_rate = 0.01\n",
    "\n",
    "w = w - learning_rate * loss_rate_of_change_w\n",
    "b = b - learning_rate * loss_rate_of_change_b\n",
    "\n",
    "print(w)\n",
    "print(b)\n"
   ]
  },
  {
   "cell_type": "markdown",
   "metadata": {
    "id": "j92SVB5uc3DN"
   },
   "source": [
    "### Pochodna funkcji\n",
    "\n",
    "Pochodna funkcji jest miarą szybkości zmian wartości funkcji względem zmian jej argumentów. Obliczając pochodną funkcji w punkcie, liczymy w zasadzie współczynnik jak wyżej, przyjmując nieskończenie małe `delta`. Interesuje nas pochodna funkcji straty względem poszczególnych parametrów modelu - gradient.\n",
    "\n",
    "Do obliczania pochodnych funkcji złożonych wykorzystuje się tzw. regułę łańcuchową (\"chain rule\").\n",
    "\n",
    "Funkcja straty `L` jest funkcją predykcji modelu `t_p`. `t_p` zależy od parametrów modelu (`w` i `b`).\n",
    "Pochodna funkcji straty ze względu na parametr `w` może być obliczona następująco:\n",
    "\n",
    "`dL/dw = (dL/dtp) * (dtp/dw)`\n",
    "\n",
    "Analogicznie dla parametru `b`:\n",
    "\n",
    "`dL/db = (dL/dtp) * (dtp/db)`"
   ]
  },
  {
   "cell_type": "markdown",
   "metadata": {
    "id": "CnL5XYKnc3DN"
   },
   "source": [
    "#### Ćwiczenie\n",
    "\n",
    "Wykorzystaj swoją wiedzę z analizy matematycznej, aby napisać funkcję `dloss_fn` obliczającą pochodną funkcji straty względem predykcji (na podstawie zaimplementowanej wcześniej `loss_fn` - błędu średniokwadratowego). Będzie to człon `dL/dtp` w powyższym wzorze.\n",
    "\n",
    "Tymczasowo pomiń we wzorze obliczanie średniej - zrobimy to w odpowiednim miejscu."
   ]
  },
  {
   "cell_type": "code",
   "execution_count": 45,
   "metadata": {
    "id": "mESF9Dpyc3DN"
   },
   "outputs": [
    {
     "name": "stdout",
     "output_type": "stream",
     "text": [
      "tensor([ 70.4000,  83.8000,  86.4000, 107.8000,  90.6000,  81.8000,  61.8000,\n",
      "         51.6000,  84.8000,  94.8000,  94.8000])\n"
     ]
    }
   ],
   "source": [
    "def dloss_fn(t_p, t_c):\n",
    "    return -2 * (t_c - t_p)\n",
    "dloss = dloss_fn(t_p, t_c)\n",
    "print(dloss)\n",
    "#-2 bo poruszamy sie w przeciwnym kierunku do gradientu"
   ]
  },
  {
   "cell_type": "markdown",
   "metadata": {
    "id": "j7GOLHOac3DO"
   },
   "source": [
    "#### Ćwiczenie\n",
    "Napisz funkcje `dmodel_dw()` oraz `dmodel_db()` przyjmujące jako argumenty: tensor wejściowy `t_u` i parametry modelu (`w` i `b`), a zwracające pochodne predykcji modelu względem parametrów (drugi człon z chain rule, odpowiednio `dtp/dw` i `dtp/db`).\n"
   ]
  },
  {
   "cell_type": "code",
   "execution_count": 54,
   "metadata": {
    "id": "ew4Dwk0nc3DO"
   },
   "outputs": [
    {
     "name": "stdout",
     "output_type": "stream",
     "text": [
      "tensor([35.7000, 55.9000, 58.2000, 81.9000, 56.3000, 48.9000, 33.9000, 21.8000,\n",
      "        48.4000, 60.4000, 68.4000])\n"
     ]
    }
   ],
   "source": [
    "def dmodel_dw(t_u, w, b):\n",
    "    return t_u\n",
    "#pochodna funkcji liniowej względem w jest wartoscia tensora wejsciowego (d_tp / d_w = t_u)\n",
    "print(dmodel_dw(t_u,w,b))\n",
    "\n"
   ]
  },
  {
   "cell_type": "code",
   "execution_count": 55,
   "metadata": {
    "id": "q7nrVFJAc3DO"
   },
   "outputs": [
    {
     "name": "stdout",
     "output_type": "stream",
     "text": [
      "1\n"
     ]
    }
   ],
   "source": [
    "def dmodel_db(t_u, w, b):\n",
    "    return 1\n",
    "#pochodna funkcji liniowej wzgledem b to zawsze 1\n",
    "print(dmodel_db(t_u,w,b))"
   ]
  },
  {
   "cell_type": "markdown",
   "metadata": {
    "id": "NBm1W9Yec3DO"
   },
   "source": [
    "#### Ćwiczenie\n",
    "Uzupełnij poniższy kod, aby obliczyć gradient funkcji straty, czyli wektor (tensor) pochodnych względem parametrów modelu).\n",
    "\n",
    "Zwróć uwagę na użycie funkcji `mean()` w zwracanym tensorze."
   ]
  },
  {
   "cell_type": "code",
   "execution_count": 53,
   "metadata": {
    "id": "eMu2iG8Gc3DO"
   },
   "outputs": [
    {
     "name": "stdout",
     "output_type": "stream",
     "text": [
      "tensor([4517.2964,   82.6000])\n"
     ]
    }
   ],
   "source": [
    "# ZASTĄP WYSTĄPIENIA SŁOWA \"None\" WŁASNYM KODEM\n",
    "\n",
    "def grad_fn(t_u, t_c, t_p, w, b):\n",
    "    dL_dtp = dloss_fn(t_p, t_c)  # pochodna funkcji straty wzgledem predykcji\n",
    "    dL_dw = dL_dtp * t_u  # regula lancuchowa dla w\n",
    "    dL_db = dL_dtp * 1  # regula lancuchowa dla b\n",
    "    return torch.stack([dL_dw.mean(), dL_db.mean()])\n",
    "gradient = grad_fn(t_u, t_c, t_p, w, b)\n",
    "print(gradient)\n"
   ]
  },
  {
   "cell_type": "markdown",
   "metadata": {
    "id": "CsVlAAXxc3DO"
   },
   "source": [
    "### Algorytm najszybszego spadku\n",
    "\n",
    "Gradient (jako wektor pochodnych cząstkowych) wskazuje (wielowymiarowy) kierunek najszybszego wzrostu funkcji.\n",
    "\n",
    "Algorytm najszybszego spadku (ang. gradient descent) jest iteracyjnym algorytmem optymalizacji funkcji (straty), w którym w każdej iteracji aktualizujemy parametry \"podążając\" w kierunku przeciwnym do gradientu (wektor o przeciwnym zwrocie) - a więc w kierunku najszybszego spadku.\n",
    "\n",
    "Jest on realizowany przez poniższy kod."
   ]
  },
  {
   "cell_type": "code",
   "execution_count": 56,
   "metadata": {
    "id": "oIxYnby9c3DO"
   },
   "outputs": [],
   "source": [
    "def training_loop(n_iters, learning_rate, params, t_u, t_c):\n",
    "    for iteration in range(1, n_iters+1):\n",
    "        w, b = params\n",
    "        t_p = model(t_u, w, b)\n",
    "        loss = loss_fn(t_p, t_c)\n",
    "        grad = grad_fn(t_u, t_c, t_p, w, b)\n",
    "\n",
    "        # tzw. \"vanilla\" gradient descent\n",
    "        params = params - learning_rate * grad\n",
    "\n",
    "    print('After iteration %d, Loss %f' % (iteration, float(loss)))\n",
    "\n",
    "    return params"
   ]
  },
  {
   "cell_type": "markdown",
   "metadata": {
    "id": "4iuUrtQvc3DP"
   },
   "source": [
    "#### Ćwiczenie\n",
    "Uruchom funkcję `training_loop` dla 100 iteracji, przy `learning_rate` równym 0.01, inicjalizując parametry `w` i `b` wartościami 1.0 i 0.0.\n",
    "\n",
    "Zaobserwuj, co się stało, i pomyśl, dlaczego. Co się stało i dlaczego?"
   ]
  },
  {
   "cell_type": "code",
   "execution_count": 17,
   "metadata": {
    "id": "EVtZOFjqc3DP"
   },
   "outputs": [
    {
     "name": "stdout",
     "output_type": "stream",
     "text": [
      "After iteration 100, Loss nan\n"
     ]
    }
   ],
   "source": [
    "# TU WPISZ WŁASNY KOD\n",
    "\n",
    "n_iters = 100\n",
    "learning_rate = 0.01\n",
    "params = torch.tensor([1.0, 0.0], requires_grad=True)  # inicjalizacja w i b\n",
    "\n",
    "trained_params = training_loop(n_iters, learning_rate, params, t_u, t_c) #uruchomienie\n"
   ]
  },
  {
   "cell_type": "markdown",
   "metadata": {},
   "source": [
    " po próbie zmiany liczby interacji na mniejsza (np. 20) , funkcja straty wyswietlila sie w poprawnym formacie, przy 100 algorytm nie dziala poprawnie\n",
    "prawdopodobnie z powodu tego ze krok jest za duzy i minimum funkcji zostaje przeskoczone."
   ]
  },
  {
   "cell_type": "markdown",
   "metadata": {
    "id": "efi_8o6xc3DP"
   },
   "source": [
    "#### Ćwiczenie\n",
    "Uruchom `training_loop` dla 100 iteracji zmniejszając `learning_rate` do 0.0001. Co się zmieniło?"
   ]
  },
  {
   "cell_type": "code",
   "execution_count": 18,
   "metadata": {
    "id": "_rwJKSxrc3DP"
   },
   "outputs": [
    {
     "name": "stdout",
     "output_type": "stream",
     "text": [
      "After iteration 100, Loss 29.137590\n"
     ]
    }
   ],
   "source": [
    "# TU WPISZ WŁASNY KOD\n",
    "\n",
    "n_iters = 100\n",
    "learning_rate = 0.0001\n",
    "params = torch.tensor([1.0, 0.0], requires_grad=True)  # inicjalizacja w i b\n",
    "\n",
    "trained_params = training_loop(n_iters, learning_rate, params, t_u, t_c) #uruchomienie"
   ]
  },
  {
   "cell_type": "markdown",
   "metadata": {},
   "source": [
    "funkcja straty zwiększyła sie, prawdopodobnie bardziej zblizylismy się do minimum, bo kroki są mniejsze."
   ]
  },
  {
   "cell_type": "markdown",
   "metadata": {
    "id": "qJWr5XLxc3DP"
   },
   "source": [
    "### Normalizacja danych\n",
    "\n",
    "Poza `learning_rate`, we wzorze na aktualizację parametrów modelu występuje także gradient. Przyjrzyjmy się zawartości zmiennej `grad` w kolejnych iteracjach.\n",
    "\n",
    "Widzimy, że w początkowych iteracjach treningu gradient dla parametru `w` jest znacząco większy (ok. 50 razy) niż dla `b`. Wskazuje to na fakt, że parametry nie są w tej samej skali i trudno dobrać do nich ten sam `learning_rate`.\n",
    "\n",
    "Uwaga:\n",
    "Bardziej złożone algorytmy optymalizacji radzą sobie częściowo z tym problemem - wrócimy do tego na kolejnych zajęciach."
   ]
  },
  {
   "cell_type": "code",
   "execution_count": 48,
   "metadata": {
    "id": "fwECtAwJc3DP"
   },
   "outputs": [],
   "source": [
    "def training_loop_print_grad(n_iters, learning_rate, params, t_u, t_c):\n",
    "    for iteration in range(1, n_iters+1):\n",
    "        w, b = params\n",
    "        t_p = model(t_u, w, b)\n",
    "        loss = loss_fn(t_p, t_c)\n",
    "        grad = grad_fn(t_u, t_c, t_p, w, b)\n",
    "\n",
    "        print(grad)\n",
    "        # tzw. \"vanilla\" gradient descent\n",
    "        params = params - learning_rate * grad\n",
    "\n",
    "    print('After iteration %d, Loss %f' % (iteration, float(loss)))\n",
    "\n",
    "    return params"
   ]
  },
  {
   "cell_type": "code",
   "execution_count": 49,
   "metadata": {
    "id": "KyUdUU_nc3DP"
   },
   "outputs": [
    {
     "name": "stdout",
     "output_type": "stream",
     "text": [
      "tensor([4517.2964,   82.6000])\n",
      "tensor([1859.5492,   35.7843])\n",
      "tensor([765.4666,  16.5122])\n",
      "tensor([315.0790,   8.5787])\n",
      "tensor([129.6733,   5.3127])\n",
      "tensor([53.3496,  3.9682])\n",
      "tensor([21.9304,  3.4148])\n",
      "tensor([8.9965, 3.1869])\n",
      "tensor([3.6721, 3.0930])\n",
      "tensor([1.4803, 3.0544])\n",
      "tensor([0.5781, 3.0384])\n",
      "tensor([0.2066, 3.0318])\n",
      "tensor([0.0537, 3.0291])\n",
      "tensor([-0.0093,  3.0279])\n",
      "tensor([-0.0352,  3.0274])\n",
      "tensor([-0.0459,  3.0272])\n",
      "tensor([-0.0502,  3.0270])\n",
      "tensor([-0.0520,  3.0270])\n",
      "tensor([-0.0528,  3.0269])\n",
      "tensor([-0.0531,  3.0268])\n",
      "tensor([-0.0532,  3.0268])\n",
      "tensor([-0.0533,  3.0267])\n",
      "tensor([-0.0533,  3.0267])\n",
      "tensor([-0.0533,  3.0266])\n",
      "tensor([-0.0533,  3.0266])\n",
      "tensor([-0.0533,  3.0265])\n",
      "tensor([-0.0533,  3.0265])\n",
      "tensor([-0.0532,  3.0264])\n",
      "tensor([-0.0533,  3.0264])\n",
      "tensor([-0.0533,  3.0263])\n",
      "tensor([-0.0532,  3.0262])\n",
      "tensor([-0.0533,  3.0262])\n",
      "tensor([-0.0533,  3.0261])\n",
      "tensor([-0.0533,  3.0261])\n",
      "tensor([-0.0532,  3.0260])\n",
      "tensor([-0.0533,  3.0260])\n",
      "tensor([-0.0533,  3.0259])\n",
      "tensor([-0.0532,  3.0259])\n",
      "tensor([-0.0534,  3.0258])\n",
      "tensor([-0.0533,  3.0258])\n",
      "tensor([-0.0533,  3.0257])\n",
      "tensor([-0.0532,  3.0257])\n",
      "tensor([-0.0533,  3.0256])\n",
      "tensor([-0.0532,  3.0256])\n",
      "tensor([-0.0533,  3.0255])\n",
      "tensor([-0.0533,  3.0254])\n",
      "tensor([-0.0533,  3.0254])\n",
      "tensor([-0.0533,  3.0253])\n",
      "tensor([-0.0533,  3.0253])\n",
      "tensor([-0.0532,  3.0252])\n",
      "tensor([-0.0533,  3.0252])\n",
      "tensor([-0.0533,  3.0251])\n",
      "tensor([-0.0533,  3.0251])\n",
      "tensor([-0.0533,  3.0250])\n",
      "tensor([-0.0532,  3.0250])\n",
      "tensor([-0.0533,  3.0249])\n",
      "tensor([-0.0532,  3.0249])\n",
      "tensor([-0.0533,  3.0248])\n",
      "tensor([-0.0533,  3.0248])\n",
      "tensor([-0.0533,  3.0247])\n",
      "tensor([-0.0533,  3.0247])\n",
      "tensor([-0.0533,  3.0246])\n",
      "tensor([-0.0533,  3.0245])\n",
      "tensor([-0.0532,  3.0245])\n",
      "tensor([-0.0533,  3.0244])\n",
      "tensor([-0.0533,  3.0244])\n",
      "tensor([-0.0533,  3.0243])\n",
      "tensor([-0.0533,  3.0243])\n",
      "tensor([-0.0533,  3.0242])\n",
      "tensor([-0.0532,  3.0242])\n",
      "tensor([-0.0533,  3.0241])\n",
      "tensor([-0.0533,  3.0241])\n",
      "tensor([-0.0532,  3.0240])\n",
      "tensor([-0.0533,  3.0240])\n",
      "tensor([-0.0533,  3.0239])\n",
      "tensor([-0.0533,  3.0239])\n",
      "tensor([-0.0533,  3.0238])\n",
      "tensor([-0.0533,  3.0238])\n",
      "tensor([-0.0533,  3.0237])\n",
      "tensor([-0.0533,  3.0236])\n",
      "tensor([-0.0534,  3.0236])\n",
      "tensor([-0.0533,  3.0235])\n",
      "tensor([-0.0532,  3.0235])\n",
      "tensor([-0.0533,  3.0234])\n",
      "tensor([-0.0533,  3.0234])\n",
      "tensor([-0.0532,  3.0233])\n",
      "tensor([-0.0533,  3.0233])\n",
      "tensor([-0.0532,  3.0232])\n",
      "tensor([-0.0532,  3.0232])\n",
      "tensor([-0.0533,  3.0231])\n",
      "tensor([-0.0533,  3.0231])\n",
      "tensor([-0.0532,  3.0230])\n",
      "tensor([-0.0533,  3.0230])\n",
      "tensor([-0.0532,  3.0229])\n",
      "tensor([-0.0533,  3.0229])\n",
      "tensor([-0.0533,  3.0228])\n",
      "tensor([-0.0533,  3.0227])\n",
      "tensor([-0.0533,  3.0227])\n",
      "tensor([-0.0533,  3.0226])\n",
      "tensor([-0.0532,  3.0226])\n",
      "After iteration 100, Loss 29.022667\n"
     ]
    },
    {
     "data": {
      "text/plain": [
       "tensor([ 0.2327, -0.0438])"
      ]
     },
     "execution_count": 49,
     "metadata": {},
     "output_type": "execute_result"
    }
   ],
   "source": [
    "training_loop_print_grad(n_iters = 100,\n",
    "              learning_rate = 1e-4,\n",
    "              params = torch.tensor([1.0, 0.0]),\n",
    "              t_u = t_u,\n",
    "              t_c = t_c)"
   ]
  },
  {
   "cell_type": "markdown",
   "metadata": {
    "id": "a2slcvyCc3DP"
   },
   "source": [
    "Rozwiązaniem problemu może być odpowiednia normalizacja wejść do modelu. Temat ten będzie szerzej omawiany w późniejszym czasie, na teraz spróbujmy jedynie przeskalować wejścia zmniejszając je 10-krotnie (`t_u * 0.1`) . Teraz model nie \"wybuchnie\" nawet dla `learning_rate` równego 0.01."
   ]
  },
  {
   "cell_type": "code",
   "execution_count": 22,
   "metadata": {
    "id": "fKxdAIX4c3DQ"
   },
   "outputs": [
    {
     "name": "stdout",
     "output_type": "stream",
     "text": [
      "tensor([-7.0558, -0.9673])\n",
      "tensor([-6.6694, -0.8991])\n",
      "tensor([-6.3044, -0.8346])\n",
      "tensor([-5.9594, -0.7737])\n",
      "tensor([-5.6335, -0.7162])\n",
      "tensor([-5.3255, -0.6618])\n",
      "tensor([-5.0345, -0.6105])\n",
      "tensor([-4.7596, -0.5619])\n",
      "tensor([-4.4998, -0.5161])\n",
      "tensor([-4.2544, -0.4728])\n",
      "tensor([-4.0224, -0.4318])\n",
      "tensor([-3.8033, -0.3932])\n",
      "tensor([-3.5962, -0.3566])\n",
      "tensor([-3.4006, -0.3221])\n",
      "tensor([-3.2157, -0.2895])\n",
      "tensor([-3.0410, -0.2587])\n",
      "tensor([-2.8760, -0.2296])\n",
      "tensor([-2.7201, -0.2021])\n",
      "tensor([-2.5727, -0.1761])\n",
      "tensor([-2.4335, -0.1515])\n",
      "tensor([-2.3020, -0.1284])\n",
      "tensor([-2.1777, -0.1064])\n",
      "tensor([-2.0602, -0.0857])\n",
      "tensor([-1.9493, -0.0662])\n",
      "tensor([-1.8444, -0.0477])\n",
      "tensor([-1.7453, -0.0302])\n",
      "tensor([-1.6517, -0.0137])\n",
      "tensor([-1.5633,  0.0018])\n",
      "tensor([-1.4797,  0.0166])\n",
      "tensor([-1.4008,  0.0305])\n",
      "tensor([-1.3261,  0.0436])\n",
      "tensor([-1.2557,  0.0560])\n",
      "tensor([-1.1890,  0.0677])\n",
      "tensor([-1.1261,  0.0788])\n",
      "tensor([-1.0666,  0.0893])\n",
      "tensor([-1.0104,  0.0992])\n",
      "tensor([-0.9573,  0.1085])\n",
      "tensor([-0.9072,  0.1173])\n",
      "tensor([-0.8598,  0.1256])\n",
      "tensor([-0.8150,  0.1335])\n",
      "tensor([-0.7727,  0.1409])\n",
      "tensor([-0.7327,  0.1480])\n",
      "tensor([-0.6949,  0.1546])\n",
      "tensor([-0.6592,  0.1609])\n",
      "tensor([-0.6255,  0.1668])\n",
      "tensor([-0.5936,  0.1724])\n",
      "tensor([-0.5635,  0.1776])\n",
      "tensor([-0.5350,  0.1826])\n",
      "tensor([-0.5081,  0.1873])\n",
      "tensor([-0.4827,  0.1918])\n",
      "tensor([-0.4587,  0.1960])\n",
      "tensor([-0.4360,  0.1999])\n",
      "tensor([-0.4146,  0.2037])\n",
      "tensor([-0.3944,  0.2072])\n",
      "tensor([-0.3752,  0.2106])\n",
      "tensor([-0.3572,  0.2137])\n",
      "tensor([-0.3401,  0.2167])\n",
      "tensor([-0.3239,  0.2195])\n",
      "tensor([-0.3087,  0.2221])\n",
      "tensor([-0.2943,  0.2246])\n",
      "tensor([-0.2806,  0.2270])\n",
      "tensor([-0.2678,  0.2292])\n",
      "tensor([-0.2556,  0.2313])\n",
      "tensor([-0.2441,  0.2333])\n",
      "tensor([-0.2333,  0.2352])\n",
      "tensor([-0.2230,  0.2370])\n",
      "tensor([-0.2133,  0.2386])\n",
      "tensor([-0.2042,  0.2402])\n",
      "tensor([-0.1955,  0.2417])\n",
      "tensor([-0.1873,  0.2431])\n",
      "tensor([-0.1796,  0.2444])\n",
      "tensor([-0.1723,  0.2457])\n",
      "tensor([-0.1654,  0.2469])\n",
      "tensor([-0.1589,  0.2480])\n",
      "tensor([-0.1527,  0.2490])\n",
      "tensor([-0.1469,  0.2500])\n",
      "tensor([-0.1414,  0.2509])\n",
      "tensor([-0.1362,  0.2518])\n",
      "tensor([-0.1313,  0.2526])\n",
      "tensor([-0.1267,  0.2534])\n",
      "tensor([-0.1223,  0.2541])\n",
      "tensor([-0.1181,  0.2548])\n",
      "tensor([-0.1142,  0.2555])\n",
      "tensor([-0.1105,  0.2561])\n",
      "tensor([-0.1070,  0.2567])\n",
      "tensor([-0.1037,  0.2572])\n",
      "tensor([-0.1006,  0.2577])\n",
      "tensor([-0.0976,  0.2582])\n",
      "tensor([-0.0948,  0.2586])\n",
      "tensor([-0.0922,  0.2591])\n",
      "tensor([-0.0897,  0.2595])\n",
      "tensor([-0.0874,  0.2598])\n",
      "tensor([-0.0851,  0.2602])\n",
      "tensor([-0.0830,  0.2605])\n",
      "tensor([-0.0811,  0.2608])\n",
      "tensor([-0.0792,  0.2611])\n",
      "tensor([-0.0774,  0.2614])\n",
      "tensor([-0.0757,  0.2616])\n",
      "tensor([-0.0741,  0.2619])\n",
      "tensor([-0.0726,  0.2621])\n",
      "After iteration 100, Loss 29.031771\n"
     ]
    },
    {
     "data": {
      "text/plain": [
       "tensor([ 2.3142, -0.0449])"
      ]
     },
     "execution_count": 22,
     "metadata": {},
     "output_type": "execute_result"
    }
   ],
   "source": [
    "training_loop_print_grad(n_iters = 100,\n",
    "              learning_rate = 1e-2,\n",
    "              params = torch.tensor([1.0, 0.0]),\n",
    "              t_u = t_u * 0.1,\n",
    "              t_c = t_c)"
   ]
  },
  {
   "cell_type": "markdown",
   "metadata": {
    "id": "MjSmYPQ0c3DQ"
   },
   "source": [
    "#### Ćwiczenie\n",
    "\n",
    "Uruchom `training_loop` (nie ma potrzeby wypisywania gradientów) dla większej liczby iteracji - sparwdź np. 1000, 2000, 5000, 10000. Niech `learning_rate` wynosi 0.01. Pamiętaj o przeskalowaniu wejść do modelu (`t_u * 0.1`).\n",
    "\n",
    "Przypisz wartości parametrów (zwracane przez funkcję) do zmiennej `params`."
   ]
  },
  {
   "cell_type": "code",
   "execution_count": 63,
   "metadata": {
    "id": "kE7j2m9Fc3DT"
   },
   "outputs": [
    {
     "name": "stdout",
     "output_type": "stream",
     "text": [
      "After iteration 1000, Loss 3.828538\n",
      "After iteration 2000, Loss 2.928648\n",
      "After iteration 5000, Loss 2.927645\n",
      "After iteration 10000, Loss 2.927645\n"
     ]
    }
   ],
   "source": [
    "# TU WPISZ WŁASNY KOD\n",
    "\n",
    "# przeskalowanie\n",
    "t_u_scaled = t_u * 0.1\n",
    "\n",
    "# rozna liczba iteracji\n",
    "params = training_loop(n_iters=1000, learning_rate=0.01, params=torch.tensor([1.0, 0.0]), t_u=t_u_scaled, t_c=t_c) #trzeba zainicjowac parametry\n",
    "\n",
    "params = training_loop(n_iters=2000, learning_rate=0.01, params=params, t_u=t_u_scaled, t_c=t_c)\n",
    "\n",
    "params = training_loop(n_iters=5000, learning_rate=0.01, params=params, t_u=t_u_scaled, t_c=t_c)\n",
    "\n",
    "params = training_loop(n_iters=10000, learning_rate=0.01, params=params, t_u=t_u_scaled, t_c=t_c)\n",
    "\n"
   ]
  },
  {
   "cell_type": "markdown",
   "metadata": {
    "id": "mfd1q1Cmc3DU"
   },
   "source": [
    "#### Ćwiczenie\n",
    "\n",
    "Uruchom poniższy kod, aby zwizualizować dopasowanie modelu do danych (przy znalezionych parametrach)."
   ]
  },
  {
   "cell_type": "code",
   "execution_count": 64,
   "metadata": {
    "id": "WRjD5JXnc3DU"
   },
   "outputs": [
    {
     "data": {
      "text/plain": [
       "[<matplotlib.lines.Line2D at 0x13433c3d0>]"
      ]
     },
     "execution_count": 64,
     "metadata": {},
     "output_type": "execute_result"
    },
    {
     "data": {
      "image/png": "[encoded data removed]",
      "text/plain": [
       "<Figure size 640x480 with 1 Axes>"
      ]
     },
     "metadata": {},
     "output_type": "display_data"
    }
   ],
   "source": [
    "import matplotlib.pyplot as plt\n",
    "\n",
    "t_p = model(t_u * 0.1, *params)\n",
    "\n",
    "plt.plot(t_u.numpy(), t_p.detach().numpy())\n",
    "plt.plot(t_u.numpy(), t_c.numpy(), 'o')"
   ]
  },
  {
   "cell_type": "markdown",
   "metadata": {
    "id": "M5WzsWaZc3DU"
   },
   "source": [
    "#### Ćwiczenie\n",
    "1. Jaki będzie ostatecznie \"wzór\" przeliczający skalę \"unknown\" na stopnie Celsjusza?\n",
    "2. Czy wiesz, jaka skala kryje się pod \"unknown\"?  \n",
    "3. Dla jakiej temperatury wartość na obu skalach będzie taka sama?"
   ]
  },
  {
   "cell_type": "markdown",
   "metadata": {},
   "source": [
    "1) wzor t_c=a⋅t_u+b gdzie a to gradient a b to intercept czyli wg wzoru na model liniowy, wspolczynniki a i b muszą zostac obliczone np. metoda najmniejszych kwadratow i wychodzi a=0.537 i b=−17.305\n",
    "\n",
    "2) najprawdopodobniej skala Fahrenheita albo jakas wariacja, bo wzór jest podobny\n",
    "   \n",
    "3) t_u = -b/(a-1) = −37.36 po przeksztalceniu wzoru wyzej czyli okolo 40, co sie w miare zgadza ze skala Fahrenheita"
   ]
  },
  {
   "cell_type": "markdown",
   "metadata": {},
   "source": [
    "#### Wnioski: \n",
    "*zbyt duze tempo uczenia sprawia ze model przeskoczy minimum funkcji straty a zbyt małe spowalnia proces uczenia\n",
    "\n",
    "*Na podstawie obliczonych współczynników zmiany można zdecydować, w którym kierunku należy zmodyfikować parametry by zmniejszyc funkcje straty. Jeśli współczynnik zmiany dla danego parametru jest dodatni to zwiekszenie wartości tego parametru zwiększy wartość funkcji straty, czyli zmniejszamy wartosc parametru, analogicznie do ujemnego\n",
    "\n",
    "* reguła łancuchowa to przydatne narzędzie to rozkładania procesu różniczkowania na prostsze kroki w przypadku gdy mamy np. zlozenie wielu funkcji (np. straty)\n",
    "\n"
   ]
  }
 ],
 "metadata": {
  "colab": {
   "provenance": []
  },
  "kernelspec": {
   "display_name": "Python 3 (ipykernel)",
   "language": "python",
   "name": "python3"
  },
  "language_info": {
   "codemirror_mode": {
    "name": "ipython",
    "version": 3
   },
   "file_extension": ".py",
   "mimetype": "text/x-python",
   "name": "python",
   "nbconvert_exporter": "python",
   "pygments_lexer": "ipython3",
   "version": "3.9.12"
  }
 },
 "nbformat": 4,
 "nbformat_minor": 4
}
